{
 "cells": [
  {
   "cell_type": "markdown",
   "id": "5484ad16",
   "metadata": {},
   "source": [
    "#### Dataset"
   ]
  },
  {
   "cell_type": "code",
   "execution_count": 1,
   "id": "856bd8a4",
   "metadata": {},
   "outputs": [],
   "source": [
    "# Name : UpdatedResumeDataset.csv, Sample_resume.txt"
   ]
  },
  {
   "cell_type": "markdown",
   "id": "816fb249",
   "metadata": {},
   "source": [
    "#### Import the libraries"
   ]
  },
  {
   "cell_type": "code",
   "execution_count": 2,
   "id": "c4b578da",
   "metadata": {},
   "outputs": [
    {
     "name": "stderr",
     "output_type": "stream",
     "text": [
      "C:\\Users\\Dell\\anaconda3\\lib\\site-packages\\scipy\\__init__.py:146: UserWarning: A NumPy version >=1.16.5 and <1.23.0 is required for this version of SciPy (detected version 1.26.4\n",
      "  warnings.warn(f\"A NumPy version >={np_minversion} and <{np_maxversion}\"\n"
     ]
    }
   ],
   "source": [
    "import pandas as pd\n",
    "import seaborn as sns\n",
    "import matplotlib.pyplot as plt"
   ]
  },
  {
   "cell_type": "markdown",
   "id": "4b0318c7",
   "metadata": {},
   "source": [
    "#### Read the dataset"
   ]
  },
  {
   "cell_type": "code",
   "execution_count": 3,
   "id": "34bbfa32",
   "metadata": {},
   "outputs": [],
   "source": [
    "df = pd.read_csv('UpdatedResumeDataset.csv')"
   ]
  },
  {
   "cell_type": "code",
   "execution_count": 4,
   "id": "95635c79",
   "metadata": {},
   "outputs": [
    {
     "data": {
      "text/html": [
       "<div>\n",
       "<style scoped>\n",
       "    .dataframe tbody tr th:only-of-type {\n",
       "        vertical-align: middle;\n",
       "    }\n",
       "\n",
       "    .dataframe tbody tr th {\n",
       "        vertical-align: top;\n",
       "    }\n",
       "\n",
       "    .dataframe thead th {\n",
       "        text-align: right;\n",
       "    }\n",
       "</style>\n",
       "<table border=\"1\" class=\"dataframe\">\n",
       "  <thead>\n",
       "    <tr style=\"text-align: right;\">\n",
       "      <th></th>\n",
       "      <th>Category</th>\n",
       "      <th>Resume</th>\n",
       "    </tr>\n",
       "  </thead>\n",
       "  <tbody>\n",
       "    <tr>\n",
       "      <th>0</th>\n",
       "      <td>Data Science</td>\n",
       "      <td>Skills * Programming Languages: Python (pandas...</td>\n",
       "    </tr>\n",
       "    <tr>\n",
       "      <th>1</th>\n",
       "      <td>Data Science</td>\n",
       "      <td>Education Details \\r\\nMay 2013 to May 2017 B.E...</td>\n",
       "    </tr>\n",
       "    <tr>\n",
       "      <th>2</th>\n",
       "      <td>Data Science</td>\n",
       "      <td>Areas of Interest Deep Learning, Control Syste...</td>\n",
       "    </tr>\n",
       "    <tr>\n",
       "      <th>3</th>\n",
       "      <td>Data Science</td>\n",
       "      <td>Skills â¢ R â¢ Python â¢ SAP HANA â¢ Table...</td>\n",
       "    </tr>\n",
       "    <tr>\n",
       "      <th>4</th>\n",
       "      <td>Data Science</td>\n",
       "      <td>Education Details \\r\\n MCA   YMCAUST,  Faridab...</td>\n",
       "    </tr>\n",
       "    <tr>\n",
       "      <th>...</th>\n",
       "      <td>...</td>\n",
       "      <td>...</td>\n",
       "    </tr>\n",
       "    <tr>\n",
       "      <th>957</th>\n",
       "      <td>Testing</td>\n",
       "      <td>Computer Skills: â¢ Proficient in MS office (...</td>\n",
       "    </tr>\n",
       "    <tr>\n",
       "      <th>958</th>\n",
       "      <td>Testing</td>\n",
       "      <td>â Willingness to accept the challenges. â ...</td>\n",
       "    </tr>\n",
       "    <tr>\n",
       "      <th>959</th>\n",
       "      <td>Testing</td>\n",
       "      <td>PERSONAL SKILLS â¢ Quick learner, â¢ Eagerne...</td>\n",
       "    </tr>\n",
       "    <tr>\n",
       "      <th>960</th>\n",
       "      <td>Testing</td>\n",
       "      <td>COMPUTER SKILLS &amp; SOFTWARE KNOWLEDGE MS-Power ...</td>\n",
       "    </tr>\n",
       "    <tr>\n",
       "      <th>961</th>\n",
       "      <td>Testing</td>\n",
       "      <td>Skill Set OS Windows XP/7/8/8.1/10 Database MY...</td>\n",
       "    </tr>\n",
       "  </tbody>\n",
       "</table>\n",
       "<p>962 rows × 2 columns</p>\n",
       "</div>"
      ],
      "text/plain": [
       "         Category                                             Resume\n",
       "0    Data Science  Skills * Programming Languages: Python (pandas...\n",
       "1    Data Science  Education Details \\r\\nMay 2013 to May 2017 B.E...\n",
       "2    Data Science  Areas of Interest Deep Learning, Control Syste...\n",
       "3    Data Science  Skills â¢ R â¢ Python â¢ SAP HANA â¢ Table...\n",
       "4    Data Science  Education Details \\r\\n MCA   YMCAUST,  Faridab...\n",
       "..            ...                                                ...\n",
       "957       Testing  Computer Skills: â¢ Proficient in MS office (...\n",
       "958       Testing  â Willingness to accept the challenges. â ...\n",
       "959       Testing  PERSONAL SKILLS â¢ Quick learner, â¢ Eagerne...\n",
       "960       Testing  COMPUTER SKILLS & SOFTWARE KNOWLEDGE MS-Power ...\n",
       "961       Testing  Skill Set OS Windows XP/7/8/8.1/10 Database MY...\n",
       "\n",
       "[962 rows x 2 columns]"
      ]
     },
     "execution_count": 4,
     "metadata": {},
     "output_type": "execute_result"
    }
   ],
   "source": [
    "df"
   ]
  },
  {
   "cell_type": "code",
   "execution_count": 5,
   "id": "936c7c30",
   "metadata": {},
   "outputs": [
    {
     "name": "stdout",
     "output_type": "stream",
     "text": [
      "PERSONAL SKILLS â¢ Quick learner, â¢ Eagerness to learn new things, â¢ Competitive attitude, â¢ Good leadership qualities, â¢ Ability to deal with people diplomatically. PERSONAL DOSSIER Fathers Name: Dhanraj WaghEducation Details \r\n",
      "January 2012 to January 2016 Bachelors of Engineering Engineering Pune, Maharashtra Pune University\r\n",
      "January 2012 Higher Secondary Certificate  Nashik, Maharashtra SND College of Engineering and Research Center\r\n",
      "January 2010 Secondary School Certificate  Yeola, Maharashtra Swami Muktanand Jr. College\r\n",
      " HSC   Maharashtra State Board\r\n",
      " SSC   Maharashtra State Bard\r\n",
      " BE  Rajapur, Uttar Pradesh Madhyamik Vidya Mandir Rajapur\r\n",
      "Testing and Quality Control Engineer \r\n",
      "\r\n",
      "Testing and Quality Control Engineer - M/S Rakesh Transformer Industries Pvt. Ltd\r\n",
      "Skill Details \r\n",
      "Company Details \r\n",
      "company - M/S Rakesh Transformer Industries Pvt. Ltd\r\n",
      "description - Responsibilities:\r\n",
      "â¢     To conduct Routine test, Type Test (Temperature Rise Test), Special Test on Transformers as per IS & IEC up\r\n",
      "\r\n",
      "to - 10 MVA / 33 KV Class & preparing of its test reports.\r\n",
      "\r\n",
      "â¢     Routine tests, Type tests and Special tests as per IS 2026, IS 1180, IS 11171/IEC-60076- test\r\n",
      "\r\n",
      "Manual/inspection plans of Power Transformers, Distribution Transformers, Inverter Duty, Converter Duty,\r\n",
      "\r\n",
      "Motor Duty Transformer, Furnace Transformer, Auto Transformers, Dry Type (VPI & CRT) LT Transformers,\r\n",
      "\r\n",
      "Special Transformers\r\n",
      "â¢     Testing Remote Tap Changer Cubicle (RTCC) Panel with OLTC and its operation ( CTR, Esun MR.)\r\n",
      "\r\n",
      "â¢     Functional Testing of Transformer Accessories ( BR, PRV, MOG, WTI, OTI and its Setting)\r\n",
      "\r\n",
      "â¢     In case any failure in testing analyses the root cause and submit the CAPA\r\n",
      "\r\n",
      "â¢     Assist the customer or their representative at the time of inspection.\r\n",
      "\r\n",
      "â¢     In process testing of winding, core assembly and core coil assembly.\r\n",
      "\r\n",
      "â¢     Handling 3rd party and Government Body's Inspection.\r\n",
      "\r\n",
      "â¢     Preparation of Daily Internal Testing Reports and send to concern.\r\n",
      "\r\n",
      "â¢     Support Certification Audits (ISO & BIS)\r\n",
      "\r\n",
      "â¢     Calibration/validation of tools, instruments, Measuring equipment's\r\n",
      "\r\n",
      "â¢     Suggest the client about proper maintenance of transformer\r\n",
      "â¢     Doing all documentation and Maintain Records and Analyze the Test Results and Maintain Testing Ledger\r\n",
      "\r\n",
      "â¢     In process Quality Inspection of Winding, Core assembly, Core Coil assembly as per Standard and as per\r\n",
      "\r\n",
      "organizational Norms.\r\n",
      "\r\n",
      "â¢     Pre Dispatch Quality Inspection of Complete Product.\r\n",
      "\r\n",
      "â¢     Implementation of, WHY-WHY analysis.\r\n",
      "company - M/S Silverline Electricals Pvt. Ltd\r\n",
      "description - Routine tests, Type tests (Temperature Rise Test) and Special tests as per IS 2026, IS 1180/ test\r\n",
      "\r\n",
      "Manual/inspection plans of Distribution Transformer, Power Transformer\r\n",
      "\r\n",
      "â¢     Successfully handled Responsibilities of ERDA's testing.\r\n",
      "\r\n",
      "â¢     On site commissioning of Transformer.\r\n",
      "\r\n",
      "â¢     Assist the customer or their representative at the time of inspection.\r\n",
      "\r\n",
      "â¢     In process testing of winding, core assembly and core coil assembly.\r\n",
      "\r\n",
      "â¢     Successfully handling 3rd party and Government Body's Inspection\r\n",
      "\r\n",
      "â¢     Preparation of Daily Internal Testing Reports and send to concern.\r\n",
      "\r\n",
      "â¢     Suggest the client about proper maintenance of transformer\n"
     ]
    }
   ],
   "source": [
    "print(df['Resume'][945])"
   ]
  },
  {
   "cell_type": "markdown",
   "id": "daf04b95",
   "metadata": {},
   "source": [
    "#### Seperate the input and output data"
   ]
  },
  {
   "cell_type": "code",
   "execution_count": 6,
   "id": "2423489f",
   "metadata": {},
   "outputs": [],
   "source": [
    "x = df['Resume']\n",
    "y = df['Category']"
   ]
  },
  {
   "cell_type": "code",
   "execution_count": 7,
   "id": "840b297b",
   "metadata": {},
   "outputs": [
    {
     "data": {
      "text/plain": [
       "{'Advocate',\n",
       " 'Arts',\n",
       " 'Automation Testing',\n",
       " 'Blockchain',\n",
       " 'Business Analyst',\n",
       " 'Civil Engineer',\n",
       " 'Data Science',\n",
       " 'Database',\n",
       " 'DevOps Engineer',\n",
       " 'DotNet Developer',\n",
       " 'ETL Developer',\n",
       " 'Electrical Engineering',\n",
       " 'HR',\n",
       " 'Hadoop',\n",
       " 'Health and fitness',\n",
       " 'Java Developer',\n",
       " 'Mechanical Engineer',\n",
       " 'Network Security Engineer',\n",
       " 'Operations Manager',\n",
       " 'PMO',\n",
       " 'Python Developer',\n",
       " 'SAP Developer',\n",
       " 'Sales',\n",
       " 'Testing',\n",
       " 'Web Designing'}"
      ]
     },
     "execution_count": 7,
     "metadata": {},
     "output_type": "execute_result"
    }
   ],
   "source": [
    "set(y)"
   ]
  },
  {
   "cell_type": "code",
   "execution_count": 8,
   "id": "c4f83250",
   "metadata": {},
   "outputs": [
    {
     "data": {
      "text/plain": [
       "25"
      ]
     },
     "execution_count": 8,
     "metadata": {},
     "output_type": "execute_result"
    }
   ],
   "source": [
    "len(set(y))"
   ]
  },
  {
   "cell_type": "markdown",
   "id": "1319c395",
   "metadata": {},
   "source": [
    "#### Explore the data"
   ]
  },
  {
   "cell_type": "code",
   "execution_count": 9,
   "id": "cc4bf54b",
   "metadata": {},
   "outputs": [
    {
     "data": {
      "image/png": "[encoded data removed]",
      "text/plain": [
       "<Figure size 1080x1080 with 1 Axes>"
      ]
     },
     "metadata": {
      "needs_background": "light"
     },
     "output_type": "display_data"
    }
   ],
   "source": [
    "plt.figure(figsize=(15,15))\n",
    "plt.xticks(rotation=90)\n",
    "sns.countplot(y = df['Category']);"
   ]
  },
  {
   "cell_type": "code",
   "execution_count": 10,
   "id": "159056fe",
   "metadata": {},
   "outputs": [
    {
     "data": {
      "text/plain": [
       "Java Developer               84\n",
       "Testing                      70\n",
       "DevOps Engineer              55\n",
       "Python Developer             48\n",
       "Web Designing                45\n",
       "HR                           44\n",
       "Hadoop                       42\n",
       "Blockchain                   40\n",
       "ETL Developer                40\n",
       "Operations Manager           40\n",
       "Data Science                 40\n",
       "Sales                        40\n",
       "Mechanical Engineer          40\n",
       "Arts                         36\n",
       "Database                     33\n",
       "Electrical Engineering       30\n",
       "Health and fitness           30\n",
       "PMO                          30\n",
       "Business Analyst             28\n",
       "DotNet Developer             28\n",
       "Automation Testing           26\n",
       "Network Security Engineer    25\n",
       "SAP Developer                24\n",
       "Civil Engineer               24\n",
       "Advocate                     20\n",
       "Name: Category, dtype: int64"
      ]
     },
     "execution_count": 10,
     "metadata": {},
     "output_type": "execute_result"
    }
   ],
   "source": [
    "y.value_counts()"
   ]
  },
  {
   "cell_type": "code",
   "execution_count": 11,
   "id": "b2a60afd",
   "metadata": {},
   "outputs": [
    {
     "data": {
      "image/png": "[encoded data removed]",
      "text/plain": [
       "<Figure size 720x720 with 1 Axes>"
      ]
     },
     "metadata": {},
     "output_type": "display_data"
    }
   ],
   "source": [
    "plt.figure(figsize=(10,10))\n",
    "plt.pie(y.value_counts(), labels=y.value_counts().index, autopct='%2.2f%%');"
   ]
  },
  {
   "cell_type": "markdown",
   "id": "9bf5cc8f",
   "metadata": {},
   "source": [
    "#### Data Preparation"
   ]
  },
  {
   "cell_type": "markdown",
   "id": "eb17933b",
   "metadata": {},
   "source": [
    "##### Data Cleaning"
   ]
  },
  {
   "cell_type": "code",
   "execution_count": 12,
   "id": "5bba6986",
   "metadata": {},
   "outputs": [],
   "source": [
    "import re, string"
   ]
  },
  {
   "cell_type": "code",
   "execution_count": 13,
   "id": "0c7b36c7",
   "metadata": {},
   "outputs": [
    {
     "data": {
      "text/plain": [
       "'!\"#$%&\\'()*+,-./:;<=>?@[\\\\]^_`{|}~'"
      ]
     },
     "execution_count": 13,
     "metadata": {},
     "output_type": "execute_result"
    }
   ],
   "source": [
    "string.punctuation"
   ]
  },
  {
   "cell_type": "code",
   "execution_count": 14,
   "id": "505a5bc6",
   "metadata": {},
   "outputs": [],
   "source": [
    "def cleanResume(resumeText):\n",
    "    resumeText = re.sub('http\\S+\\s*', ' ', resumeText)   # remove URLs\n",
    "    resumeText = re.sub('RT|cc', ' ', resumeText)   # remove RT and CC\n",
    "    resumeText = re.sub('#\\S+', ' ', resumeText)   # remove hashtages\n",
    "    resumeText = re.sub('@\\S+', ' ', resumeText)   #remove mentions\n",
    "    resumeText = re.sub('[%s]' % re.escape(string.punctuation), ' ', resumeText)\n",
    "    # remove punctuations\n",
    "    resumeText = re.sub(r'[^\\x00-\\x7f]', r' ', resumeText)\n",
    "    resumeText = re.sub('\\s+', ' ', resumeText)\n",
    "    # remove extra whitespace\n",
    "    return resumeText"
   ]
  },
  {
   "cell_type": "code",
   "execution_count": 15,
   "id": "f4b9b418",
   "metadata": {},
   "outputs": [],
   "source": [
    "name = 'Sreelekshmi'"
   ]
  },
  {
   "cell_type": "code",
   "execution_count": 16,
   "id": "94ce589b",
   "metadata": {},
   "outputs": [
    {
     "name": "stdout",
     "output_type": "stream",
     "text": [
      "Sreelekshmi\n"
     ]
    }
   ],
   "source": [
    "print('%s' %name)"
   ]
  },
  {
   "cell_type": "code",
   "execution_count": 17,
   "id": "c1177898",
   "metadata": {},
   "outputs": [
    {
     "data": {
      "text/plain": [
       "'PERSONAL SKILLS Quick learner Eagerness to learn new things Competitive attitude Good leadership qualities Ability to deal with people diplomatically PERSONAL DOSSIER Fathers Name Dhanraj WaghEducation Details January 2012 to January 2016 Bachelors of Engineering Engineering Pune Maharashtra Pune University January 2012 Higher Secondary Certificate Nashik Maharashtra SND College of Engineering and Research Center January 2010 Secondary School Certificate Yeola Maharashtra Swami Muktanand Jr College HSC Maharashtra State Board SSC Maharashtra State Bard BE Rajapur Uttar Pradesh Madhyamik Vidya Mandir Rajapur Testing and Quality Control Engineer Testing and Quality Control Engineer M S Rakesh Transformer Industries Pvt Ltd Skill Details Company Details company M S Rakesh Transformer Industries Pvt Ltd description Responsibilities To conduct Routine test Type Test Temperature Rise Test Special Test on Transformers as per IS IEC up to 10 MVA 33 KV Class preparing of its test reports Routine tests Type tests and Special tests as per IS 2026 IS 1180 IS 11171 IEC 60076 test Manual inspection plans of Power Transformers Distribution Transformers Inverter Duty Converter Duty Motor Duty Transformer Furnace Transformer Auto Transformers Dry Type VPI C LT Transformers Special Transformers Testing Remote Tap Changer Cubicle CC Panel with OLTC and its operation CTR Esun MR Functional Testing of Transformer A essories BR PRV MOG WTI OTI and its Setting In case any failure in testing analyses the root cause and submit the CAPA Assist the customer or their representative at the time of inspection In process testing of winding core assembly and core coil assembly Handling 3rd party and Government Body s Inspection Preparation of Daily Internal Testing Reports and send to concern Support Certification Audits ISO BIS Calibration validation of tools instruments Measuring equipment s Suggest the client about proper maintenance of transformer Doing all documentation and Maintain Records and Analyze the Test Results and Maintain Testing Ledger In process Quality Inspection of Winding Core assembly Core Coil assembly as per Standard and as per organizational Norms Pre Dispatch Quality Inspection of Complete Product Implementation of WHY WHY analysis company M S Silverline Electricals Pvt Ltd description Routine tests Type tests Temperature Rise Test and Special tests as per IS 2026 IS 1180 test Manual inspection plans of Distribution Transformer Power Transformer Su essfully handled Responsibilities of ERDA s testing On site commissioning of Transformer Assist the customer or their representative at the time of inspection In process testing of winding core assembly and core coil assembly Su essfully handling 3rd party and Government Body s Inspection Preparation of Daily Internal Testing Reports and send to concern Suggest the client about proper maintenance of transformer'"
      ]
     },
     "execution_count": 17,
     "metadata": {},
     "output_type": "execute_result"
    }
   ],
   "source": [
    "cleanResume(df['Resume'][945])"
   ]
  },
  {
   "cell_type": "markdown",
   "id": "da72d676",
   "metadata": {},
   "source": [
    "#### Seperate the input and output variables"
   ]
  },
  {
   "cell_type": "code",
   "execution_count": 18,
   "id": "0b53babc",
   "metadata": {},
   "outputs": [],
   "source": [
    "x = df['Resume']\n",
    "y = df['Category']"
   ]
  },
  {
   "cell_type": "markdown",
   "id": "6121fb4f",
   "metadata": {},
   "source": [
    "#### TF*IDF Vectorizer"
   ]
  },
  {
   "cell_type": "code",
   "execution_count": 19,
   "id": "fa8fabd8",
   "metadata": {},
   "outputs": [],
   "source": [
    "from sklearn.feature_extraction.text import TfidfVectorizer"
   ]
  },
  {
   "cell_type": "code",
   "execution_count": 21,
   "id": "d14e5ca9",
   "metadata": {},
   "outputs": [],
   "source": [
    "tfidf = TfidfVectorizer(stop_words = 'english')"
   ]
  },
  {
   "cell_type": "code",
   "execution_count": 22,
   "id": "5c84a30e",
   "metadata": {},
   "outputs": [],
   "source": [
    "cleaned = x.apply(lambda a: cleanResume(a))"
   ]
  },
  {
   "cell_type": "code",
   "execution_count": 23,
   "id": "5a75f406",
   "metadata": {},
   "outputs": [
    {
     "data": {
      "text/plain": [
       "0      Skills Programming Languages Python pandas num...\n",
       "1      Education Details May 2013 to May 2017 B E UIT...\n",
       "2      Areas of Interest Deep Learning Control System...\n",
       "3      Skills R Python SAP HANA Tableau SAP HANA SQL ...\n",
       "4      Education Details MCA YMCAUST Faridabad Haryan...\n",
       "                             ...                        \n",
       "957    Computer Skills Proficient in MS office Word B...\n",
       "958     Willingness to a ept the challenges Positive ...\n",
       "959    PERSONAL SKILLS Quick learner Eagerness to lea...\n",
       "960    COMPUTER SKILLS SOFTWARE KNOWLEDGE MS Power Po...\n",
       "961    Skill Set OS Windows XP 7 8 8 1 10 Database MY...\n",
       "Name: Resume, Length: 962, dtype: object"
      ]
     },
     "execution_count": 23,
     "metadata": {},
     "output_type": "execute_result"
    }
   ],
   "source": [
    "cleaned"
   ]
  },
  {
   "cell_type": "code",
   "execution_count": 24,
   "id": "83a78526",
   "metadata": {},
   "outputs": [],
   "source": [
    "x_vect = tfidf.fit_transform(cleaned)"
   ]
  },
  {
   "cell_type": "code",
   "execution_count": 26,
   "id": "c76dfb11",
   "metadata": {},
   "outputs": [
    {
     "data": {
      "text/plain": [
       "(962, 7351)"
      ]
     },
     "execution_count": 26,
     "metadata": {},
     "output_type": "execute_result"
    }
   ],
   "source": [
    "x_vect.shape"
   ]
  },
  {
   "cell_type": "code",
   "execution_count": 27,
   "id": "5c47598d",
   "metadata": {},
   "outputs": [
    {
     "data": {
      "text/plain": [
       "array(['000', '01', '017', ..., 'zone', 'zookeeper', 'zz'], dtype=object)"
      ]
     },
     "execution_count": 27,
     "metadata": {},
     "output_type": "execute_result"
    }
   ],
   "source": [
    "tfidf.get_feature_names_out()"
   ]
  },
  {
   "cell_type": "markdown",
   "id": "33b132cc",
   "metadata": {},
   "source": [
    "#### Cross Validation"
   ]
  },
  {
   "cell_type": "code",
   "execution_count": 28,
   "id": "66bfff8a",
   "metadata": {},
   "outputs": [],
   "source": [
    "from sklearn.model_selection import train_test_split"
   ]
  },
  {
   "cell_type": "code",
   "execution_count": 29,
   "id": "f6242bcf",
   "metadata": {},
   "outputs": [],
   "source": [
    "x_train, x_test, y_train, y_test = train_test_split(x_vect, y, random_state=0)"
   ]
  },
  {
   "cell_type": "code",
   "execution_count": 30,
   "id": "3c9da80b",
   "metadata": {},
   "outputs": [
    {
     "data": {
      "text/plain": [
       "(721, 7351)"
      ]
     },
     "execution_count": 30,
     "metadata": {},
     "output_type": "execute_result"
    }
   ],
   "source": [
    "x_train.shape"
   ]
  },
  {
   "cell_type": "code",
   "execution_count": 31,
   "id": "7846b64b",
   "metadata": {},
   "outputs": [
    {
     "data": {
      "text/plain": [
       "(241, 7351)"
      ]
     },
     "execution_count": 31,
     "metadata": {},
     "output_type": "execute_result"
    }
   ],
   "source": [
    "x_test.shape"
   ]
  },
  {
   "cell_type": "markdown",
   "id": "3c59a26e",
   "metadata": {},
   "source": [
    "#### Build the model"
   ]
  },
  {
   "cell_type": "code",
   "execution_count": 32,
   "id": "8563e945",
   "metadata": {},
   "outputs": [],
   "source": [
    "# import the class\n",
    "from sklearn.neighbors import KNeighborsClassifier"
   ]
  },
  {
   "cell_type": "code",
   "execution_count": 33,
   "id": "be1b98a8",
   "metadata": {},
   "outputs": [],
   "source": [
    "# create the object\n",
    "knn = KNeighborsClassifier()"
   ]
  },
  {
   "cell_type": "code",
   "execution_count": 34,
   "id": "8272c076",
   "metadata": {},
   "outputs": [
    {
     "data": {
      "text/plain": [
       "KNeighborsClassifier()"
      ]
     },
     "execution_count": 34,
     "metadata": {},
     "output_type": "execute_result"
    }
   ],
   "source": [
    "# train the algorithm\n",
    "knn.fit(x_train, y_train)"
   ]
  },
  {
   "cell_type": "markdown",
   "id": "349779f3",
   "metadata": {},
   "source": [
    "#### Performance Evaluation"
   ]
  },
  {
   "cell_type": "code",
   "execution_count": 35,
   "id": "97c1a3f5",
   "metadata": {},
   "outputs": [],
   "source": [
    "y_pred = knn.predict(x_test)"
   ]
  },
  {
   "cell_type": "code",
   "execution_count": 36,
   "id": "36b2b491",
   "metadata": {},
   "outputs": [
    {
     "data": {
      "text/plain": [
       "array(['Python Developer', 'Health and fitness', 'Java Developer',\n",
       "       'Network Security Engineer', 'Java Developer',\n",
       "       'Health and fitness', 'ETL Developer', 'Health and fitness',\n",
       "       'Java Developer', 'Electrical Engineering', 'Data Science',\n",
       "       'Testing', 'Business Analyst', 'Electrical Engineering', 'Hadoop',\n",
       "       'Business Analyst', 'PMO', 'DevOps Engineer', 'DevOps Engineer',\n",
       "       'DotNet Developer', 'HR', 'Electrical Engineering',\n",
       "       'Network Security Engineer', 'Sales', 'PMO', 'Mechanical Engineer',\n",
       "       'Civil Engineer', 'DevOps Engineer', 'Blockchain', 'Web Designing',\n",
       "       'Python Developer', 'Operations Manager', 'Sales', 'Database',\n",
       "       'Testing', 'Testing', 'Sales', 'Operations Manager', 'Database',\n",
       "       'Python Developer', 'ETL Developer', 'Python Developer',\n",
       "       'Health and fitness', 'DevOps Engineer', 'Java Developer',\n",
       "       'Java Developer', 'DevOps Engineer', 'Electrical Engineering',\n",
       "       'Business Analyst', 'Sales', 'Arts', 'Web Designing',\n",
       "       'Health and fitness', 'Java Developer', 'Sales', 'Testing',\n",
       "       'DevOps Engineer', 'Java Developer', 'Blockchain',\n",
       "       'Network Security Engineer', 'Operations Manager', 'Blockchain',\n",
       "       'Advocate', 'Java Developer', 'Java Developer', 'Java Developer',\n",
       "       'Mechanical Engineer', 'SAP Developer', 'Hadoop',\n",
       "       'Operations Manager', 'HR', 'Testing', 'Sales', 'HR', 'Hadoop',\n",
       "       'Sales', 'DevOps Engineer', 'Database', 'PMO', 'Business Analyst',\n",
       "       'Web Designing', 'Health and fitness', 'Database', 'Arts',\n",
       "       'Web Designing', 'Hadoop', 'HR', 'ETL Developer',\n",
       "       'DotNet Developer', 'DevOps Engineer', 'Sales', 'DotNet Developer',\n",
       "       'Testing', 'Electrical Engineering', 'DotNet Developer', 'Testing',\n",
       "       'Electrical Engineering', 'Java Developer', 'Testing', 'Hadoop',\n",
       "       'Business Analyst', 'Network Security Engineer',\n",
       "       'Automation Testing', 'Civil Engineer', 'Data Science',\n",
       "       'ETL Developer', 'Advocate', 'PMO', 'Python Developer',\n",
       "       'ETL Developer', 'Sales', 'ETL Developer', 'Java Developer',\n",
       "       'ETL Developer', 'Java Developer', 'Java Developer', 'Sales',\n",
       "       'Java Developer', 'Health and fitness', 'Data Science', 'Advocate',\n",
       "       'Business Analyst', 'Civil Engineer', 'Database',\n",
       "       'DotNet Developer', 'Hadoop', 'Testing', 'Data Science',\n",
       "       'DotNet Developer', 'DotNet Developer', 'SAP Developer',\n",
       "       'Electrical Engineering', 'Civil Engineer', 'Blockchain',\n",
       "       'DotNet Developer', 'Web Designing', 'PMO', 'Hadoop',\n",
       "       'DevOps Engineer', 'Blockchain', 'Hadoop', 'Hadoop',\n",
       "       'Electrical Engineering', 'Python Developer',\n",
       "       'Mechanical Engineer', 'Testing', 'SAP Developer', 'Web Designing',\n",
       "       'Database', 'SAP Developer', 'Python Developer', 'Java Developer',\n",
       "       'Sales', 'PMO', 'Java Developer', 'Testing', 'DotNet Developer',\n",
       "       'Java Developer', 'Java Developer', 'Data Science',\n",
       "       'Automation Testing', 'Python Developer', 'Database',\n",
       "       'Electrical Engineering', 'Testing', 'Web Designing',\n",
       "       'DevOps Engineer', 'Blockchain', 'Python Developer',\n",
       "       'Automation Testing', 'ETL Developer', 'Sales', 'Java Developer',\n",
       "       'Automation Testing', 'Electrical Engineering', 'Testing', 'Arts',\n",
       "       'Testing', 'Data Science', 'Blockchain', 'Blockchain',\n",
       "       'Web Designing', 'Web Designing', 'HR', 'Civil Engineer',\n",
       "       'Testing', 'Operations Manager', 'Sales', 'Python Developer',\n",
       "       'Python Developer', 'Blockchain', 'Data Science', 'Java Developer',\n",
       "       'DevOps Engineer', 'Mechanical Engineer', 'Java Developer',\n",
       "       'Civil Engineer', 'HR', 'HR', 'Network Security Engineer',\n",
       "       'Mechanical Engineer', 'Web Designing', 'ETL Developer', 'PMO',\n",
       "       'Mechanical Engineer', 'Civil Engineer', 'Testing',\n",
       "       'Civil Engineer', 'Civil Engineer', 'Data Science', 'PMO',\n",
       "       'Business Analyst', 'Mechanical Engineer',\n",
       "       'Network Security Engineer', 'Advocate', 'Business Analyst', 'HR',\n",
       "       'Business Analyst', 'Operations Manager', 'Python Developer',\n",
       "       'Blockchain', 'Operations Manager', 'Network Security Engineer',\n",
       "       'Data Science', 'Electrical Engineering', 'SAP Developer', 'Sales',\n",
       "       'Testing', 'Testing', 'DotNet Developer', 'Business Analyst',\n",
       "       'Web Designing', 'Health and fitness', 'Automation Testing',\n",
       "       'ETL Developer', 'Health and fitness', 'Operations Manager',\n",
       "       'Hadoop', 'Automation Testing', 'Database', 'ETL Developer'],\n",
       "      dtype=object)"
      ]
     },
     "execution_count": 36,
     "metadata": {},
     "output_type": "execute_result"
    }
   ],
   "source": [
    "y_pred"
   ]
  },
  {
   "cell_type": "code",
   "execution_count": 37,
   "id": "764ed4f5",
   "metadata": {},
   "outputs": [
    {
     "data": {
      "text/plain": [
       "590             Python Developer\n",
       "278           Health and fitness\n",
       "14                  Data Science\n",
       "678    Network Security Engineer\n",
       "338               Java Developer\n",
       "                 ...            \n",
       "535           Operations Manager\n",
       "775                       Hadoop\n",
       "474           Automation Testing\n",
       "740                     Database\n",
       "795                ETL Developer\n",
       "Name: Category, Length: 241, dtype: object"
      ]
     },
     "execution_count": 37,
     "metadata": {},
     "output_type": "execute_result"
    }
   ],
   "source": [
    "# actual data\n",
    "y_test"
   ]
  },
  {
   "cell_type": "code",
   "execution_count": 38,
   "id": "dd52ff8d",
   "metadata": {},
   "outputs": [],
   "source": [
    "from sklearn.metrics import ConfusionMatrixDisplay, accuracy_score"
   ]
  },
  {
   "cell_type": "code",
   "execution_count": 39,
   "id": "546318ff",
   "metadata": {},
   "outputs": [
    {
     "data": {
      "text/plain": [
       "<sklearn.metrics._plot.confusion_matrix.ConfusionMatrixDisplay at 0x1a545512460>"
      ]
     },
     "execution_count": 39,
     "metadata": {},
     "output_type": "execute_result"
    },
    {
     "data": {
      "text/plain": [
       "<Figure size 1080x1080 with 0 Axes>"
      ]
     },
     "metadata": {},
     "output_type": "display_data"
    },
    {
     "data": {
      "image/png": "[encoded data removed]",
      "text/plain": [
       "<Figure size 432x288 with 2 Axes>"
      ]
     },
     "metadata": {
      "needs_background": "light"
     },
     "output_type": "display_data"
    }
   ],
   "source": [
    "plt.figure(figsize=(15,15))\n",
    "ConfusionMatrixDisplay.from_predictions(y_test, y_pred)"
   ]
  },
  {
   "cell_type": "code",
   "execution_count": 41,
   "id": "96b5fbef",
   "metadata": {},
   "outputs": [
    {
     "data": {
      "text/plain": [
       "array([[ 4,  0,  0,  0,  0,  0,  0,  0,  0,  0,  0,  0,  0,  0,  0,  0,\n",
       "         0,  0,  0,  0,  0,  0,  0,  0,  0],\n",
       "       [ 0,  3,  0,  0,  0,  0,  0,  0,  0,  0,  0,  0,  0,  0,  0,  0,\n",
       "         0,  0,  0,  0,  0,  0,  0,  0,  0],\n",
       "       [ 0,  0,  5,  0,  0,  0,  0,  0,  0,  0,  0,  1,  0,  0,  0,  0,\n",
       "         0,  0,  0,  0,  0,  0,  0,  0,  0],\n",
       "       [ 0,  0,  0, 10,  0,  0,  0,  0,  0,  0,  0,  0,  0,  0,  0,  0,\n",
       "         0,  0,  0,  0,  0,  0,  0,  0,  0],\n",
       "       [ 0,  0,  0,  0, 10,  0,  0,  0,  0,  0,  0,  0,  0,  0,  0,  0,\n",
       "         0,  0,  0,  0,  0,  0,  0,  0,  0],\n",
       "       [ 0,  0,  0,  0,  0,  9,  0,  0,  0,  0,  0,  0,  0,  0,  0,  0,\n",
       "         0,  0,  0,  0,  0,  0,  0,  0,  0],\n",
       "       [ 0,  0,  0,  0,  0,  0,  9,  0,  0,  0,  0,  0,  0,  0,  0,  2,\n",
       "         0,  0,  0,  0,  0,  0,  0,  0,  0],\n",
       "       [ 0,  0,  0,  0,  0,  0,  0,  8,  0,  0,  0,  0,  0,  0,  0,  0,\n",
       "         0,  0,  0,  0,  0,  0,  0,  0,  0],\n",
       "       [ 0,  0,  1,  0,  0,  0,  0,  0, 11,  0,  0,  0,  0,  0,  0,  0,\n",
       "         0,  0,  0,  0,  0,  0,  0,  0,  1],\n",
       "       [ 0,  0,  0,  0,  0,  0,  0,  0,  0, 10,  0,  0,  0,  0,  0,  0,\n",
       "         0,  0,  0,  0,  0,  0,  0,  0,  0],\n",
       "       [ 0,  0,  0,  0,  0,  0,  0,  0,  0,  0, 11,  0,  0,  0,  0,  0,\n",
       "         0,  0,  0,  0,  0,  0,  0,  0,  0],\n",
       "       [ 0,  0,  0,  0,  0,  0,  0,  0,  0,  0,  0, 10,  0,  0,  0,  0,\n",
       "         0,  0,  0,  0,  0,  0,  0,  0,  0],\n",
       "       [ 0,  0,  0,  0,  0,  0,  0,  0,  0,  0,  0,  0,  8,  0,  0,  0,\n",
       "         0,  0,  0,  0,  0,  0,  0,  0,  0],\n",
       "       [ 0,  0,  0,  0,  0,  0,  0,  0,  0,  0,  0,  0,  0, 10,  0,  0,\n",
       "         0,  0,  0,  0,  0,  0,  0,  0,  0],\n",
       "       [ 0,  0,  0,  0,  0,  0,  0,  0,  0,  0,  0,  0,  0,  0,  9,  0,\n",
       "         0,  0,  0,  0,  0,  0,  0,  0,  0],\n",
       "       [ 0,  0,  0,  0,  0,  0,  0,  0,  0,  0,  0,  0,  0,  0,  0, 20,\n",
       "         0,  0,  0,  0,  0,  0,  0,  0,  0],\n",
       "       [ 0,  0,  0,  0,  0,  0,  0,  0,  0,  0,  0,  0,  0,  0,  0,  0,\n",
       "         7,  0,  0,  0,  0,  0,  0,  0,  0],\n",
       "       [ 0,  0,  0,  0,  0,  0,  0,  0,  0,  0,  0,  0,  0,  0,  0,  0,\n",
       "         0,  7,  0,  0,  0,  0,  0,  0,  0],\n",
       "       [ 0,  0,  0,  0,  0,  0,  0,  0,  0,  0,  0,  0,  0,  0,  0,  0,\n",
       "         0,  0,  8,  0,  0,  0,  0,  0,  0],\n",
       "       [ 0,  0,  0,  0,  0,  0,  0,  0,  0,  0,  0,  0,  0,  0,  0,  0,\n",
       "         0,  0,  0,  8,  0,  0,  0,  0,  0],\n",
       "       [ 0,  0,  0,  0,  0,  0,  0,  0,  0,  0,  0,  0,  0,  0,  0,  0,\n",
       "         0,  0,  0,  0, 12,  0,  0,  0,  0],\n",
       "       [ 0,  0,  0,  0,  0,  0,  0,  0,  0,  0,  0,  0,  0,  0,  0,  0,\n",
       "         0,  0,  0,  0,  0,  5,  0,  0,  0],\n",
       "       [ 0,  0,  0,  0,  0,  0,  0,  0,  0,  0,  0,  0,  0,  0,  0,  0,\n",
       "         0,  0,  0,  0,  0,  0, 14,  0,  0],\n",
       "       [ 0,  0,  0,  0,  0,  0,  0,  0,  0,  0,  0,  0,  0,  0,  0,  0,\n",
       "         0,  0,  0,  0,  0,  0,  0, 18,  0],\n",
       "       [ 0,  0,  0,  0,  0,  0,  0,  0,  0,  0,  0,  0,  0,  0,  0,  0,\n",
       "         0,  0,  0,  0,  0,  0,  0,  0, 10]], dtype=int64)"
      ]
     },
     "execution_count": 41,
     "metadata": {},
     "output_type": "execute_result"
    }
   ],
   "source": [
    "from sklearn.metrics import confusion_matrix   #optional\n",
    "confusion_matrix(y_test, y_pred)"
   ]
  },
  {
   "cell_type": "code",
   "execution_count": 42,
   "id": "6cc7dd18",
   "metadata": {},
   "outputs": [
    {
     "data": {
      "text/plain": [
       "0.979253112033195"
      ]
     },
     "execution_count": 42,
     "metadata": {},
     "output_type": "execute_result"
    }
   ],
   "source": [
    "accuracy_score(y_test, y_pred)"
   ]
  },
  {
   "cell_type": "code",
   "execution_count": 43,
   "id": "f1ba3690",
   "metadata": {},
   "outputs": [
    {
     "data": {
      "text/plain": [
       "0.979253112033195"
      ]
     },
     "execution_count": 43,
     "metadata": {},
     "output_type": "execute_result"
    }
   ],
   "source": [
    "236 / 241"
   ]
  },
  {
   "cell_type": "markdown",
   "id": "ffdcadb4",
   "metadata": {},
   "source": [
    "#### Predict on unseen/new data"
   ]
  },
  {
   "cell_type": "code",
   "execution_count": 44,
   "id": "3d5d7116",
   "metadata": {},
   "outputs": [],
   "source": [
    "# Sample_resume.txt\n",
    "# Predict the suitable job profile for this single resume"
   ]
  },
  {
   "cell_type": "code",
   "execution_count": 45,
   "id": "ca8a189f",
   "metadata": {},
   "outputs": [],
   "source": [
    "f = open('Sample_resume.txt')"
   ]
  },
  {
   "cell_type": "code",
   "execution_count": 46,
   "id": "32646d87",
   "metadata": {},
   "outputs": [],
   "source": [
    "data = f.read()"
   ]
  },
  {
   "cell_type": "code",
   "execution_count": 47,
   "id": "7f5bdb44",
   "metadata": {},
   "outputs": [
    {
     "name": "stdout",
     "output_type": "stream",
     "text": [
      "Tejashree Pishe \n",
      "Jr. Machine Learning Engineer. (MITU Research) \n",
      "EXPERIENCE \n",
      "MITU Research, New Sangavi, Pune \n",
      " Feb 2021 till date \n",
      "Hiko Technology Pvt. Ltd., Baner, Pune Full Time Internship \n",
      "August 2019 May 2020. \n",
      " \n",
      "KEY PROJECTS \n",
      "Predictive Analytics Implemented for Pistachio Types over quality parameter database\n",
      "Study the origin, trade business and nutritional values over Pistachio types.\n",
      "Review the quality of pistachio types over its quality  \n",
      "pararameters.\n",
      "Critically evaluate and data preprocessing over the database.\n",
      "Used the Resampling techniques to work on imbalanced data set.\n",
      "Identify the quality parameters which has more impact on classification of Pistachio types by quantitative analysis.\n",
      "Find out the best suitable algorithm with more than 90% accuracy to predict the type of pistachio over new data.\n",
      "Updating and upgrading the model with non-predictable data.\n",
      "Technologies: Python for Data Science, NumPY, Panda,\n",
      "Machine Learning Algorithms \n",
      " \n",
      "Design and development of Decision support System for selection of New Resume to \n",
      "Suitable Job Profile\n",
      "Selection of proper dataset used for the research work.\n",
      "Performing the data preprocessing work and finding   useful insights in it. \n",
      "Converting dataset into analytic form for better operation.\n",
      "Processed dataset with best suitable machine learning algorithm to give accuracy more than 80%.\n",
      "Propose a model to access reliability in late design phase with available dataset using new modified set of metrics. \n",
      "Technologies: Python for Data Science, NLP, Panda, NumPy, Machine Learning Algorithms \n",
      "\n",
      "EDUCATION \n",
      "MKSSSS Cummins College of Engineering, Pune M.Tech, Electronics and Telecommunication Engineering. \n",
      "JUNE 2018 - MAY 2020\n",
      "\n",
      "Bramhdevdada Mane Institute of Technology, Solapur B.E., Electronics and Telecommunication Engineering. \n",
      "Aug 2010 - MAY 2016 \n",
      " \n",
      " \n",
      "Address \n",
      "Flat.No.905, Tierra Viva Society,  \n",
      "Baner, Pune 411045, INDIA. \n",
      "Phone \n",
      "+91-9834482554, +91-9665845255\n",
      "Email  \n",
      "tejashri.pishe@gmail.com \n",
      "LinkedIn \n",
      "  linkedin.com/in/tejashree-pishe-174306108\n",
      "SKILLS \n",
      "Python Programming  \n",
      "Deep Learning\n",
      "Machine Learning Development\n",
      "Artificial Intelligence \n",
      "Natural Language Processing\n",
      "Model Optimization Technique\n",
      "Predictive Modeling\n",
      "Data Preprocessing\n",
      "Programming Visualization\n",
      "Data Mining\n",
      "MYSQL \n",
      "\n",
      "WORK REFERENCES\n",
      "Tushar B.Kute\n",
      "Senior Data Scientist, MITU Research, Pune\n",
      "Email: tushar@tusharkute.com\n",
      "\n",
      "Rashmi R. Thorave \n",
      "Managing Director, MITU Research, Pune\n",
      "Email: rashmi@tusharkute.com\n",
      "\n",
      "Vivek D.Patil \n",
      "Associate Director, MITU Skilloogies, Pune\n",
      "Email: developer@mitu.co.in\n",
      "\n",
      "CERTIFICATION COMPLETED\n",
      "MITU Certified Data Science Specialist\n",
      "From: MITU Skillologies, Pune | Certificate ID: MITUDX22-33\n",
      "Data Science and Machine Learning\n",
      "Data Visualization\n",
      "Natural Language Processing\n",
      "\n",
      "\n",
      "Microsoft Technology Associate MTA 98-381\n",
      "Basics of Python Programming | Certificate No.: MITU-PX-23528\n",
      "Basics of Python Programming\n",
      "Marks:76\n",
      "\n",
      "\n",
      "TECHNICAL SKILLSET\n",
      "Programming Languages\n",
      "Python, C++, C\n",
      "\n",
      "AI and DS Skills\n",
      "Regression modelling with Linear, Logistic regression and Regularization\n",
      "Classification Systems: Decision Tree , KNN, SVM, Gaussian NB, Neural Networks\n",
      "Ensembling  Random Forest, Boosting Techniques\n",
      "Clustering Methods- K-means, Hierarchical Clustering\n",
      "Association Rules Mining such apriori\n",
      "Dimensionality reduction techniques\n",
      "\n",
      "\n",
      "LANGUAGES \n",
      "English, Hindi, and Marathi \n",
      "INTERESTS \n",
      "Dance, Reading\n",
      "\n"
     ]
    }
   ],
   "source": [
    "print(data)   #optional"
   ]
  },
  {
   "cell_type": "code",
   "execution_count": 48,
   "id": "b4d467b7",
   "metadata": {},
   "outputs": [],
   "source": [
    "data_new = cleanResume(data)"
   ]
  },
  {
   "cell_type": "code",
   "execution_count": 50,
   "id": "9c832a40",
   "metadata": {},
   "outputs": [],
   "source": [
    "# Vectorize the TF*IDF form\n",
    "data_clean = tfidf.transform([data_new])"
   ]
  },
  {
   "cell_type": "code",
   "execution_count": 51,
   "id": "1f24e4d5",
   "metadata": {},
   "outputs": [
    {
     "data": {
      "text/plain": [
       "(1, 7351)"
      ]
     },
     "execution_count": 51,
     "metadata": {},
     "output_type": "execute_result"
    }
   ],
   "source": [
    "data_clean.shape"
   ]
  },
  {
   "cell_type": "code",
   "execution_count": 52,
   "id": "e25d2c95",
   "metadata": {},
   "outputs": [
    {
     "data": {
      "text/plain": [
       "array(['Data Science'], dtype=object)"
      ]
     },
     "execution_count": 52,
     "metadata": {},
     "output_type": "execute_result"
    }
   ],
   "source": [
    "knn.predict(data_clean)"
   ]
  },
  {
   "cell_type": "code",
   "execution_count": 53,
   "id": "b45174ad",
   "metadata": {},
   "outputs": [
    {
     "data": {
      "text/plain": [
       "array(['000', '01', '017', ..., 'zone', 'zookeeper', 'zz'], dtype=object)"
      ]
     },
     "execution_count": 53,
     "metadata": {},
     "output_type": "execute_result"
    }
   ],
   "source": [
    "tfidf.get_feature_names_out()"
   ]
  }
 ],
 "metadata": {
  "kernelspec": {
   "display_name": "Python 3 (ipykernel)",
   "language": "python",
   "name": "python3"
  },
  "language_info": {
   "codemirror_mode": {
    "name": "ipython",
    "version": 3
   },
   "file_extension": ".py",
   "mimetype": "text/x-python",
   "name": "python",
   "nbconvert_exporter": "python",
   "pygments_lexer": "ipython3",
   "version": "3.9.12"
  }
 },
 "nbformat": 4,
 "nbformat_minor": 5
}
