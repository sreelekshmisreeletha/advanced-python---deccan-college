{
 "cells": [
  {
   "cell_type": "code",
   "execution_count": 44,
   "id": "f172d3ef",
   "metadata": {},
   "outputs": [],
   "source": [
    "# Name : Sreelekshmi S\n",
    "# Enrollment No: 15"
   ]
  },
  {
   "cell_type": "markdown",
   "id": "d5794f14",
   "metadata": {},
   "source": [
    "#### Bag of Words"
   ]
  },
  {
   "cell_type": "code",
   "execution_count": 45,
   "id": "ce6627c5",
   "metadata": {},
   "outputs": [],
   "source": [
    "sents = 'the red dog cat eats dog dog eats food red cat eats'"
   ]
  },
  {
   "cell_type": "code",
   "execution_count": 46,
   "id": "2fc3c37a",
   "metadata": {},
   "outputs": [
    {
     "data": {
      "text/plain": [
       "{'cat', 'dog', 'eats', 'food', 'red', 'the'}"
      ]
     },
     "execution_count": 46,
     "metadata": {},
     "output_type": "execute_result"
    }
   ],
   "source": [
    "set(sents.split())"
   ]
  },
  {
   "cell_type": "code",
   "execution_count": 47,
   "id": "cf5e5856",
   "metadata": {},
   "outputs": [],
   "source": [
    "from nltk.tokenize import word_tokenize\n",
    "import pandas as pd"
   ]
  },
  {
   "cell_type": "code",
   "execution_count": 48,
   "id": "92440e68",
   "metadata": {},
   "outputs": [],
   "source": [
    "sentence_1 = 'It was a good practice for us.'\n",
    "sentence_2 = 'It was also good to know about it.'\n",
    "sentence_3 = 'For all of us they have done a good practice.'"
   ]
  },
  {
   "cell_type": "code",
   "execution_count": 49,
   "id": "fca88ded",
   "metadata": {},
   "outputs": [],
   "source": [
    "# find the list of all the distinct words present in these three sentences"
   ]
  },
  {
   "cell_type": "code",
   "execution_count": 50,
   "id": "b98189a8",
   "metadata": {},
   "outputs": [
    {
     "data": {
      "text/plain": [
       "{'For',\n",
       " 'It',\n",
       " 'a',\n",
       " 'about',\n",
       " 'all',\n",
       " 'also',\n",
       " 'done',\n",
       " 'for',\n",
       " 'good',\n",
       " 'have',\n",
       " 'it.',\n",
       " 'know',\n",
       " 'of',\n",
       " 'practice',\n",
       " 'practice.',\n",
       " 'they',\n",
       " 'to',\n",
       " 'us',\n",
       " 'us.',\n",
       " 'was'}"
      ]
     },
     "execution_count": 50,
     "metadata": {},
     "output_type": "execute_result"
    }
   ],
   "source": [
    "words = sentence_1.split() + sentence_2.split() + sentence_3.split()\n",
    "set(words)"
   ]
  },
  {
   "cell_type": "code",
   "execution_count": 51,
   "id": "8b4ef700",
   "metadata": {},
   "outputs": [
    {
     "data": {
      "text/plain": [
       "{'.',\n",
       " 'For',\n",
       " 'It',\n",
       " 'a',\n",
       " 'about',\n",
       " 'all',\n",
       " 'also',\n",
       " 'done',\n",
       " 'for',\n",
       " 'good',\n",
       " 'have',\n",
       " 'it',\n",
       " 'know',\n",
       " 'of',\n",
       " 'practice',\n",
       " 'they',\n",
       " 'to',\n",
       " 'us',\n",
       " 'was'}"
      ]
     },
     "execution_count": 51,
     "metadata": {},
     "output_type": "execute_result"
    }
   ],
   "source": [
    "words = word_tokenize(sentence_1) + word_tokenize(sentence_2) + word_tokenize(sentence_3)\n",
    "set(words)"
   ]
  },
  {
   "cell_type": "code",
   "execution_count": 52,
   "id": "21dc21c1",
   "metadata": {},
   "outputs": [
    {
     "data": {
      "text/plain": [
       "{'.',\n",
       " 'a',\n",
       " 'about',\n",
       " 'all',\n",
       " 'also',\n",
       " 'done',\n",
       " 'for',\n",
       " 'good',\n",
       " 'have',\n",
       " 'it',\n",
       " 'know',\n",
       " 'of',\n",
       " 'practice',\n",
       " 'they',\n",
       " 'to',\n",
       " 'us',\n",
       " 'was'}"
      ]
     },
     "execution_count": 52,
     "metadata": {},
     "output_type": "execute_result"
    }
   ],
   "source": [
    "words = word_tokenize(sentence_1.lower()) + word_tokenize(sentence_2.lower()) + word_tokenize(sentence_3.lower())\n",
    "set(words)"
   ]
  },
  {
   "cell_type": "code",
   "execution_count": 53,
   "id": "31d93df5",
   "metadata": {},
   "outputs": [],
   "source": [
    "tokens = set(words)"
   ]
  },
  {
   "cell_type": "code",
   "execution_count": 54,
   "id": "9b272ebd",
   "metadata": {},
   "outputs": [
    {
     "data": {
      "text/plain": [
       "{'.',\n",
       " 'a',\n",
       " 'about',\n",
       " 'all',\n",
       " 'also',\n",
       " 'done',\n",
       " 'for',\n",
       " 'good',\n",
       " 'have',\n",
       " 'it',\n",
       " 'know',\n",
       " 'of',\n",
       " 'practice',\n",
       " 'they',\n",
       " 'to',\n",
       " 'us',\n",
       " 'was'}"
      ]
     },
     "execution_count": 54,
     "metadata": {},
     "output_type": "execute_result"
    }
   ],
   "source": [
    "tokens"
   ]
  },
  {
   "cell_type": "code",
   "execution_count": 55,
   "id": "cdd1c755",
   "metadata": {},
   "outputs": [
    {
     "data": {
      "text/html": [
       "<div>\n",
       "<style scoped>\n",
       "    .dataframe tbody tr th:only-of-type {\n",
       "        vertical-align: middle;\n",
       "    }\n",
       "\n",
       "    .dataframe tbody tr th {\n",
       "        vertical-align: top;\n",
       "    }\n",
       "\n",
       "    .dataframe thead th {\n",
       "        text-align: right;\n",
       "    }\n",
       "</style>\n",
       "<table border=\"1\" class=\"dataframe\">\n",
       "  <thead>\n",
       "    <tr style=\"text-align: right;\">\n",
       "      <th></th>\n",
       "      <th>us</th>\n",
       "      <th>for</th>\n",
       "      <th>all</th>\n",
       "      <th>.</th>\n",
       "      <th>of</th>\n",
       "      <th>a</th>\n",
       "      <th>they</th>\n",
       "      <th>know</th>\n",
       "      <th>done</th>\n",
       "      <th>was</th>\n",
       "      <th>good</th>\n",
       "      <th>practice</th>\n",
       "      <th>also</th>\n",
       "      <th>have</th>\n",
       "      <th>it</th>\n",
       "      <th>about</th>\n",
       "      <th>to</th>\n",
       "    </tr>\n",
       "  </thead>\n",
       "  <tbody>\n",
       "    <tr>\n",
       "      <th>1</th>\n",
       "      <td>NaN</td>\n",
       "      <td>NaN</td>\n",
       "      <td>NaN</td>\n",
       "      <td>NaN</td>\n",
       "      <td>NaN</td>\n",
       "      <td>NaN</td>\n",
       "      <td>NaN</td>\n",
       "      <td>NaN</td>\n",
       "      <td>NaN</td>\n",
       "      <td>NaN</td>\n",
       "      <td>NaN</td>\n",
       "      <td>NaN</td>\n",
       "      <td>NaN</td>\n",
       "      <td>NaN</td>\n",
       "      <td>NaN</td>\n",
       "      <td>NaN</td>\n",
       "      <td>NaN</td>\n",
       "    </tr>\n",
       "    <tr>\n",
       "      <th>2</th>\n",
       "      <td>NaN</td>\n",
       "      <td>NaN</td>\n",
       "      <td>NaN</td>\n",
       "      <td>NaN</td>\n",
       "      <td>NaN</td>\n",
       "      <td>NaN</td>\n",
       "      <td>NaN</td>\n",
       "      <td>NaN</td>\n",
       "      <td>NaN</td>\n",
       "      <td>NaN</td>\n",
       "      <td>NaN</td>\n",
       "      <td>NaN</td>\n",
       "      <td>NaN</td>\n",
       "      <td>NaN</td>\n",
       "      <td>NaN</td>\n",
       "      <td>NaN</td>\n",
       "      <td>NaN</td>\n",
       "    </tr>\n",
       "    <tr>\n",
       "      <th>3</th>\n",
       "      <td>NaN</td>\n",
       "      <td>NaN</td>\n",
       "      <td>NaN</td>\n",
       "      <td>NaN</td>\n",
       "      <td>NaN</td>\n",
       "      <td>NaN</td>\n",
       "      <td>NaN</td>\n",
       "      <td>NaN</td>\n",
       "      <td>NaN</td>\n",
       "      <td>NaN</td>\n",
       "      <td>NaN</td>\n",
       "      <td>NaN</td>\n",
       "      <td>NaN</td>\n",
       "      <td>NaN</td>\n",
       "      <td>NaN</td>\n",
       "      <td>NaN</td>\n",
       "      <td>NaN</td>\n",
       "    </tr>\n",
       "  </tbody>\n",
       "</table>\n",
       "</div>"
      ],
      "text/plain": [
       "    us  for  all    .   of    a they know done  was good practice also have  \\\n",
       "1  NaN  NaN  NaN  NaN  NaN  NaN  NaN  NaN  NaN  NaN  NaN      NaN  NaN  NaN   \n",
       "2  NaN  NaN  NaN  NaN  NaN  NaN  NaN  NaN  NaN  NaN  NaN      NaN  NaN  NaN   \n",
       "3  NaN  NaN  NaN  NaN  NaN  NaN  NaN  NaN  NaN  NaN  NaN      NaN  NaN  NaN   \n",
       "\n",
       "    it about   to  \n",
       "1  NaN   NaN  NaN  \n",
       "2  NaN   NaN  NaN  \n",
       "3  NaN   NaN  NaN  "
      ]
     },
     "execution_count": 55,
     "metadata": {},
     "output_type": "execute_result"
    }
   ],
   "source": [
    "df = pd.DataFrame(columns = list(tokens), index = [1,2,3])\n",
    "df"
   ]
  },
  {
   "cell_type": "code",
   "execution_count": 56,
   "id": "05a8eba5",
   "metadata": {},
   "outputs": [],
   "source": [
    "tokens1 = word_tokenize(sentence_1.lower())\n",
    "tokens2 = word_tokenize(sentence_2.lower())\n",
    "tokens3 = word_tokenize(sentence_3.lower())"
   ]
  },
  {
   "cell_type": "code",
   "execution_count": 57,
   "id": "a91afeba",
   "metadata": {},
   "outputs": [
    {
     "data": {
      "text/plain": [
       "(['it', 'was', 'a', 'good', 'practice', 'for', 'us', '.'],\n",
       " ['it', 'was', 'also', 'good', 'to', 'know', 'about', 'it', '.'],\n",
       " ['for',\n",
       "  'all',\n",
       "  'of',\n",
       "  'us',\n",
       "  'they',\n",
       "  'have',\n",
       "  'done',\n",
       "  'a',\n",
       "  'good',\n",
       "  'practice',\n",
       "  '.'])"
      ]
     },
     "execution_count": 57,
     "metadata": {},
     "output_type": "execute_result"
    }
   ],
   "source": [
    "tokens1, tokens2, tokens3"
   ]
  },
  {
   "cell_type": "code",
   "execution_count": 58,
   "id": "82b531bf",
   "metadata": {},
   "outputs": [],
   "source": [
    "counts1 = [tokens1.count(x) for x in df.columns]\n",
    "counts2 = [tokens2.count(x) for x in df.columns]\n",
    "counts3 = [tokens3.count(x) for x in df.columns]"
   ]
  },
  {
   "cell_type": "code",
   "execution_count": 59,
   "id": "d32c2905",
   "metadata": {},
   "outputs": [
    {
     "data": {
      "text/plain": [
       "([1, 1, 0, 1, 0, 1, 0, 0, 0, 1, 1, 1, 0, 0, 1, 0, 0],\n",
       " [0, 0, 0, 1, 0, 0, 0, 1, 0, 1, 1, 0, 1, 0, 2, 1, 1],\n",
       " [1, 1, 1, 1, 1, 1, 1, 0, 1, 0, 1, 1, 0, 1, 0, 0, 0])"
      ]
     },
     "execution_count": 59,
     "metadata": {},
     "output_type": "execute_result"
    }
   ],
   "source": [
    "counts1, counts2, counts3"
   ]
  },
  {
   "cell_type": "code",
   "execution_count": 60,
   "id": "895925dc",
   "metadata": {},
   "outputs": [
    {
     "data": {
      "text/html": [
       "<div>\n",
       "<style scoped>\n",
       "    .dataframe tbody tr th:only-of-type {\n",
       "        vertical-align: middle;\n",
       "    }\n",
       "\n",
       "    .dataframe tbody tr th {\n",
       "        vertical-align: top;\n",
       "    }\n",
       "\n",
       "    .dataframe thead th {\n",
       "        text-align: right;\n",
       "    }\n",
       "</style>\n",
       "<table border=\"1\" class=\"dataframe\">\n",
       "  <thead>\n",
       "    <tr style=\"text-align: right;\">\n",
       "      <th></th>\n",
       "      <th>us</th>\n",
       "      <th>for</th>\n",
       "      <th>all</th>\n",
       "      <th>.</th>\n",
       "      <th>of</th>\n",
       "      <th>a</th>\n",
       "      <th>they</th>\n",
       "      <th>know</th>\n",
       "      <th>done</th>\n",
       "      <th>was</th>\n",
       "      <th>good</th>\n",
       "      <th>practice</th>\n",
       "      <th>also</th>\n",
       "      <th>have</th>\n",
       "      <th>it</th>\n",
       "      <th>about</th>\n",
       "      <th>to</th>\n",
       "    </tr>\n",
       "  </thead>\n",
       "  <tbody>\n",
       "    <tr>\n",
       "      <th>1</th>\n",
       "      <td>NaN</td>\n",
       "      <td>NaN</td>\n",
       "      <td>NaN</td>\n",
       "      <td>NaN</td>\n",
       "      <td>NaN</td>\n",
       "      <td>NaN</td>\n",
       "      <td>NaN</td>\n",
       "      <td>NaN</td>\n",
       "      <td>NaN</td>\n",
       "      <td>NaN</td>\n",
       "      <td>NaN</td>\n",
       "      <td>NaN</td>\n",
       "      <td>NaN</td>\n",
       "      <td>NaN</td>\n",
       "      <td>NaN</td>\n",
       "      <td>NaN</td>\n",
       "      <td>NaN</td>\n",
       "    </tr>\n",
       "    <tr>\n",
       "      <th>2</th>\n",
       "      <td>NaN</td>\n",
       "      <td>NaN</td>\n",
       "      <td>NaN</td>\n",
       "      <td>NaN</td>\n",
       "      <td>NaN</td>\n",
       "      <td>NaN</td>\n",
       "      <td>NaN</td>\n",
       "      <td>NaN</td>\n",
       "      <td>NaN</td>\n",
       "      <td>NaN</td>\n",
       "      <td>NaN</td>\n",
       "      <td>NaN</td>\n",
       "      <td>NaN</td>\n",
       "      <td>NaN</td>\n",
       "      <td>NaN</td>\n",
       "      <td>NaN</td>\n",
       "      <td>NaN</td>\n",
       "    </tr>\n",
       "    <tr>\n",
       "      <th>3</th>\n",
       "      <td>NaN</td>\n",
       "      <td>NaN</td>\n",
       "      <td>NaN</td>\n",
       "      <td>NaN</td>\n",
       "      <td>NaN</td>\n",
       "      <td>NaN</td>\n",
       "      <td>NaN</td>\n",
       "      <td>NaN</td>\n",
       "      <td>NaN</td>\n",
       "      <td>NaN</td>\n",
       "      <td>NaN</td>\n",
       "      <td>NaN</td>\n",
       "      <td>NaN</td>\n",
       "      <td>NaN</td>\n",
       "      <td>NaN</td>\n",
       "      <td>NaN</td>\n",
       "      <td>NaN</td>\n",
       "    </tr>\n",
       "  </tbody>\n",
       "</table>\n",
       "</div>"
      ],
      "text/plain": [
       "    us  for  all    .   of    a they know done  was good practice also have  \\\n",
       "1  NaN  NaN  NaN  NaN  NaN  NaN  NaN  NaN  NaN  NaN  NaN      NaN  NaN  NaN   \n",
       "2  NaN  NaN  NaN  NaN  NaN  NaN  NaN  NaN  NaN  NaN  NaN      NaN  NaN  NaN   \n",
       "3  NaN  NaN  NaN  NaN  NaN  NaN  NaN  NaN  NaN  NaN  NaN      NaN  NaN  NaN   \n",
       "\n",
       "    it about   to  \n",
       "1  NaN   NaN  NaN  \n",
       "2  NaN   NaN  NaN  \n",
       "3  NaN   NaN  NaN  "
      ]
     },
     "execution_count": 60,
     "metadata": {},
     "output_type": "execute_result"
    }
   ],
   "source": [
    "df"
   ]
  },
  {
   "cell_type": "code",
   "execution_count": 61,
   "id": "6321dd85",
   "metadata": {},
   "outputs": [],
   "source": [
    "df.iloc[0,:] = counts1\n",
    "df.iloc[1,:] = counts2\n",
    "df.iloc[2,:] = counts3"
   ]
  },
  {
   "cell_type": "code",
   "execution_count": 62,
   "id": "35a1e489",
   "metadata": {},
   "outputs": [
    {
     "data": {
      "text/html": [
       "<div>\n",
       "<style scoped>\n",
       "    .dataframe tbody tr th:only-of-type {\n",
       "        vertical-align: middle;\n",
       "    }\n",
       "\n",
       "    .dataframe tbody tr th {\n",
       "        vertical-align: top;\n",
       "    }\n",
       "\n",
       "    .dataframe thead th {\n",
       "        text-align: right;\n",
       "    }\n",
       "</style>\n",
       "<table border=\"1\" class=\"dataframe\">\n",
       "  <thead>\n",
       "    <tr style=\"text-align: right;\">\n",
       "      <th></th>\n",
       "      <th>us</th>\n",
       "      <th>for</th>\n",
       "      <th>all</th>\n",
       "      <th>.</th>\n",
       "      <th>of</th>\n",
       "      <th>a</th>\n",
       "      <th>they</th>\n",
       "      <th>know</th>\n",
       "      <th>done</th>\n",
       "      <th>was</th>\n",
       "      <th>good</th>\n",
       "      <th>practice</th>\n",
       "      <th>also</th>\n",
       "      <th>have</th>\n",
       "      <th>it</th>\n",
       "      <th>about</th>\n",
       "      <th>to</th>\n",
       "    </tr>\n",
       "  </thead>\n",
       "  <tbody>\n",
       "    <tr>\n",
       "      <th>1</th>\n",
       "      <td>1</td>\n",
       "      <td>1</td>\n",
       "      <td>0</td>\n",
       "      <td>1</td>\n",
       "      <td>0</td>\n",
       "      <td>1</td>\n",
       "      <td>0</td>\n",
       "      <td>0</td>\n",
       "      <td>0</td>\n",
       "      <td>1</td>\n",
       "      <td>1</td>\n",
       "      <td>1</td>\n",
       "      <td>0</td>\n",
       "      <td>0</td>\n",
       "      <td>1</td>\n",
       "      <td>0</td>\n",
       "      <td>0</td>\n",
       "    </tr>\n",
       "    <tr>\n",
       "      <th>2</th>\n",
       "      <td>0</td>\n",
       "      <td>0</td>\n",
       "      <td>0</td>\n",
       "      <td>1</td>\n",
       "      <td>0</td>\n",
       "      <td>0</td>\n",
       "      <td>0</td>\n",
       "      <td>1</td>\n",
       "      <td>0</td>\n",
       "      <td>1</td>\n",
       "      <td>1</td>\n",
       "      <td>0</td>\n",
       "      <td>1</td>\n",
       "      <td>0</td>\n",
       "      <td>2</td>\n",
       "      <td>1</td>\n",
       "      <td>1</td>\n",
       "    </tr>\n",
       "    <tr>\n",
       "      <th>3</th>\n",
       "      <td>1</td>\n",
       "      <td>1</td>\n",
       "      <td>1</td>\n",
       "      <td>1</td>\n",
       "      <td>1</td>\n",
       "      <td>1</td>\n",
       "      <td>1</td>\n",
       "      <td>0</td>\n",
       "      <td>1</td>\n",
       "      <td>0</td>\n",
       "      <td>1</td>\n",
       "      <td>1</td>\n",
       "      <td>0</td>\n",
       "      <td>1</td>\n",
       "      <td>0</td>\n",
       "      <td>0</td>\n",
       "      <td>0</td>\n",
       "    </tr>\n",
       "  </tbody>\n",
       "</table>\n",
       "</div>"
      ],
      "text/plain": [
       "  us for all  . of  a they know done was good practice also have it about to\n",
       "1  1   1   0  1  0  1    0    0    0   1    1        1    0    0  1     0  0\n",
       "2  0   0   0  1  0  0    0    1    0   1    1        0    1    0  2     1  1\n",
       "3  1   1   1  1  1  1    1    0    1   0    1        1    0    1  0     0  0"
      ]
     },
     "execution_count": 62,
     "metadata": {},
     "output_type": "execute_result"
    }
   ],
   "source": [
    "df"
   ]
  },
  {
   "cell_type": "code",
   "execution_count": 63,
   "id": "36a037f2",
   "metadata": {},
   "outputs": [],
   "source": [
    "# import the count vectorizer class\n",
    "from sklearn.feature_extraction.text import CountVectorizer"
   ]
  },
  {
   "cell_type": "code",
   "execution_count": 64,
   "id": "fd5b2eaf",
   "metadata": {},
   "outputs": [],
   "source": [
    "# create the object\n",
    "cv = CountVectorizer()"
   ]
  },
  {
   "cell_type": "code",
   "execution_count": 65,
   "id": "056788f0",
   "metadata": {},
   "outputs": [],
   "source": [
    "# apply the BOW method\n",
    "mydata = cv.fit_transform([sentence_1, sentence_2, sentence_3])"
   ]
  },
  {
   "cell_type": "code",
   "execution_count": 66,
   "id": "cf14725b",
   "metadata": {},
   "outputs": [
    {
     "data": {
      "text/plain": [
       "array([[0, 0, 0, 0, 1, 1, 0, 1, 0, 0, 1, 0, 0, 1, 1],\n",
       "       [1, 0, 1, 0, 0, 1, 0, 2, 1, 0, 0, 0, 1, 0, 1],\n",
       "       [0, 1, 0, 1, 1, 1, 1, 0, 0, 1, 1, 1, 0, 1, 0]], dtype=int64)"
      ]
     },
     "execution_count": 66,
     "metadata": {},
     "output_type": "execute_result"
    }
   ],
   "source": [
    "mydata.toarray()"
   ]
  },
  {
   "cell_type": "code",
   "execution_count": 67,
   "id": "afb7b11b",
   "metadata": {},
   "outputs": [
    {
     "data": {
      "text/plain": [
       "array(['about', 'all', 'also', 'done', 'for', 'good', 'have', 'it',\n",
       "       'know', 'of', 'practice', 'they', 'to', 'us', 'was'], dtype=object)"
      ]
     },
     "execution_count": 67,
     "metadata": {},
     "output_type": "execute_result"
    }
   ],
   "source": [
    "cv.get_feature_names_out()"
   ]
  },
  {
   "cell_type": "code",
   "execution_count": 68,
   "id": "49d9b923",
   "metadata": {},
   "outputs": [],
   "source": [
    "df = pd.DataFrame(data=mydata.toarray(),\n",
    "                 columns=cv.get_feature_names_out())"
   ]
  },
  {
   "cell_type": "code",
   "execution_count": 69,
   "id": "83ca99e5",
   "metadata": {},
   "outputs": [
    {
     "data": {
      "text/html": [
       "<div>\n",
       "<style scoped>\n",
       "    .dataframe tbody tr th:only-of-type {\n",
       "        vertical-align: middle;\n",
       "    }\n",
       "\n",
       "    .dataframe tbody tr th {\n",
       "        vertical-align: top;\n",
       "    }\n",
       "\n",
       "    .dataframe thead th {\n",
       "        text-align: right;\n",
       "    }\n",
       "</style>\n",
       "<table border=\"1\" class=\"dataframe\">\n",
       "  <thead>\n",
       "    <tr style=\"text-align: right;\">\n",
       "      <th></th>\n",
       "      <th>about</th>\n",
       "      <th>all</th>\n",
       "      <th>also</th>\n",
       "      <th>done</th>\n",
       "      <th>for</th>\n",
       "      <th>good</th>\n",
       "      <th>have</th>\n",
       "      <th>it</th>\n",
       "      <th>know</th>\n",
       "      <th>of</th>\n",
       "      <th>practice</th>\n",
       "      <th>they</th>\n",
       "      <th>to</th>\n",
       "      <th>us</th>\n",
       "      <th>was</th>\n",
       "    </tr>\n",
       "  </thead>\n",
       "  <tbody>\n",
       "    <tr>\n",
       "      <th>0</th>\n",
       "      <td>0</td>\n",
       "      <td>0</td>\n",
       "      <td>0</td>\n",
       "      <td>0</td>\n",
       "      <td>1</td>\n",
       "      <td>1</td>\n",
       "      <td>0</td>\n",
       "      <td>1</td>\n",
       "      <td>0</td>\n",
       "      <td>0</td>\n",
       "      <td>1</td>\n",
       "      <td>0</td>\n",
       "      <td>0</td>\n",
       "      <td>1</td>\n",
       "      <td>1</td>\n",
       "    </tr>\n",
       "    <tr>\n",
       "      <th>1</th>\n",
       "      <td>1</td>\n",
       "      <td>0</td>\n",
       "      <td>1</td>\n",
       "      <td>0</td>\n",
       "      <td>0</td>\n",
       "      <td>1</td>\n",
       "      <td>0</td>\n",
       "      <td>2</td>\n",
       "      <td>1</td>\n",
       "      <td>0</td>\n",
       "      <td>0</td>\n",
       "      <td>0</td>\n",
       "      <td>1</td>\n",
       "      <td>0</td>\n",
       "      <td>1</td>\n",
       "    </tr>\n",
       "    <tr>\n",
       "      <th>2</th>\n",
       "      <td>0</td>\n",
       "      <td>1</td>\n",
       "      <td>0</td>\n",
       "      <td>1</td>\n",
       "      <td>1</td>\n",
       "      <td>1</td>\n",
       "      <td>1</td>\n",
       "      <td>0</td>\n",
       "      <td>0</td>\n",
       "      <td>1</td>\n",
       "      <td>1</td>\n",
       "      <td>1</td>\n",
       "      <td>0</td>\n",
       "      <td>1</td>\n",
       "      <td>0</td>\n",
       "    </tr>\n",
       "  </tbody>\n",
       "</table>\n",
       "</div>"
      ],
      "text/plain": [
       "   about  all  also  done  for  good  have  it  know  of  practice  they  to  \\\n",
       "0      0    0     0     0    1     1     0   1     0   0         1     0   0   \n",
       "1      1    0     1     0    0     1     0   2     1   0         0     0   1   \n",
       "2      0    1     0     1    1     1     1   0     0   1         1     1   0   \n",
       "\n",
       "   us  was  \n",
       "0   1    1  \n",
       "1   0    1  \n",
       "2   1    0  "
      ]
     },
     "execution_count": 69,
     "metadata": {},
     "output_type": "execute_result"
    }
   ],
   "source": [
    "df"
   ]
  },
  {
   "cell_type": "markdown",
   "id": "fcdededc",
   "metadata": {},
   "source": [
    "#### N-grams"
   ]
  },
  {
   "cell_type": "code",
   "execution_count": 70,
   "id": "180e1aa0",
   "metadata": {},
   "outputs": [],
   "source": [
    "# create the object\n",
    "cv = CountVectorizer(ngram_range = (1,2))"
   ]
  },
  {
   "cell_type": "code",
   "execution_count": 71,
   "id": "49473bbd",
   "metadata": {},
   "outputs": [],
   "source": [
    "# apply the BOW -ngram method\n",
    "mydata = cv.fit_transform([sentence_1, sentence_2, sentence_3])"
   ]
  },
  {
   "cell_type": "code",
   "execution_count": 72,
   "id": "c684a8f0",
   "metadata": {},
   "outputs": [
    {
     "data": {
      "text/plain": [
       "array(['about', 'about it', 'all', 'all of', 'also', 'also good', 'done',\n",
       "       'done good', 'for', 'for all', 'for us', 'good', 'good practice',\n",
       "       'good to', 'have', 'have done', 'it', 'it was', 'know',\n",
       "       'know about', 'of', 'of us', 'practice', 'practice for', 'they',\n",
       "       'they have', 'to', 'to know', 'us', 'us they', 'was', 'was also',\n",
       "       'was good'], dtype=object)"
      ]
     },
     "execution_count": 72,
     "metadata": {},
     "output_type": "execute_result"
    }
   ],
   "source": [
    "cv.get_feature_names_out()"
   ]
  },
  {
   "cell_type": "code",
   "execution_count": 73,
   "id": "e88c3386",
   "metadata": {},
   "outputs": [],
   "source": [
    "df = pd.DataFrame(data=mydata.toarray(),\n",
    "                 columns=cv.get_feature_names_out())"
   ]
  },
  {
   "cell_type": "code",
   "execution_count": 74,
   "id": "f836d017",
   "metadata": {},
   "outputs": [
    {
     "data": {
      "text/html": [
       "<div>\n",
       "<style scoped>\n",
       "    .dataframe tbody tr th:only-of-type {\n",
       "        vertical-align: middle;\n",
       "    }\n",
       "\n",
       "    .dataframe tbody tr th {\n",
       "        vertical-align: top;\n",
       "    }\n",
       "\n",
       "    .dataframe thead th {\n",
       "        text-align: right;\n",
       "    }\n",
       "</style>\n",
       "<table border=\"1\" class=\"dataframe\">\n",
       "  <thead>\n",
       "    <tr style=\"text-align: right;\">\n",
       "      <th></th>\n",
       "      <th>about</th>\n",
       "      <th>about it</th>\n",
       "      <th>all</th>\n",
       "      <th>all of</th>\n",
       "      <th>also</th>\n",
       "      <th>also good</th>\n",
       "      <th>done</th>\n",
       "      <th>done good</th>\n",
       "      <th>for</th>\n",
       "      <th>for all</th>\n",
       "      <th>...</th>\n",
       "      <th>practice for</th>\n",
       "      <th>they</th>\n",
       "      <th>they have</th>\n",
       "      <th>to</th>\n",
       "      <th>to know</th>\n",
       "      <th>us</th>\n",
       "      <th>us they</th>\n",
       "      <th>was</th>\n",
       "      <th>was also</th>\n",
       "      <th>was good</th>\n",
       "    </tr>\n",
       "  </thead>\n",
       "  <tbody>\n",
       "    <tr>\n",
       "      <th>0</th>\n",
       "      <td>0</td>\n",
       "      <td>0</td>\n",
       "      <td>0</td>\n",
       "      <td>0</td>\n",
       "      <td>0</td>\n",
       "      <td>0</td>\n",
       "      <td>0</td>\n",
       "      <td>0</td>\n",
       "      <td>1</td>\n",
       "      <td>0</td>\n",
       "      <td>...</td>\n",
       "      <td>1</td>\n",
       "      <td>0</td>\n",
       "      <td>0</td>\n",
       "      <td>0</td>\n",
       "      <td>0</td>\n",
       "      <td>1</td>\n",
       "      <td>0</td>\n",
       "      <td>1</td>\n",
       "      <td>0</td>\n",
       "      <td>1</td>\n",
       "    </tr>\n",
       "    <tr>\n",
       "      <th>1</th>\n",
       "      <td>1</td>\n",
       "      <td>1</td>\n",
       "      <td>0</td>\n",
       "      <td>0</td>\n",
       "      <td>1</td>\n",
       "      <td>1</td>\n",
       "      <td>0</td>\n",
       "      <td>0</td>\n",
       "      <td>0</td>\n",
       "      <td>0</td>\n",
       "      <td>...</td>\n",
       "      <td>0</td>\n",
       "      <td>0</td>\n",
       "      <td>0</td>\n",
       "      <td>1</td>\n",
       "      <td>1</td>\n",
       "      <td>0</td>\n",
       "      <td>0</td>\n",
       "      <td>1</td>\n",
       "      <td>1</td>\n",
       "      <td>0</td>\n",
       "    </tr>\n",
       "    <tr>\n",
       "      <th>2</th>\n",
       "      <td>0</td>\n",
       "      <td>0</td>\n",
       "      <td>1</td>\n",
       "      <td>1</td>\n",
       "      <td>0</td>\n",
       "      <td>0</td>\n",
       "      <td>1</td>\n",
       "      <td>1</td>\n",
       "      <td>1</td>\n",
       "      <td>1</td>\n",
       "      <td>...</td>\n",
       "      <td>0</td>\n",
       "      <td>1</td>\n",
       "      <td>1</td>\n",
       "      <td>0</td>\n",
       "      <td>0</td>\n",
       "      <td>1</td>\n",
       "      <td>1</td>\n",
       "      <td>0</td>\n",
       "      <td>0</td>\n",
       "      <td>0</td>\n",
       "    </tr>\n",
       "  </tbody>\n",
       "</table>\n",
       "<p>3 rows × 33 columns</p>\n",
       "</div>"
      ],
      "text/plain": [
       "   about  about it  all  all of  also  also good  done  done good  for  \\\n",
       "0      0         0    0       0     0          0     0          0    1   \n",
       "1      1         1    0       0     1          1     0          0    0   \n",
       "2      0         0    1       1     0          0     1          1    1   \n",
       "\n",
       "   for all  ...  practice for  they  they have  to  to know  us  us they  was  \\\n",
       "0        0  ...             1     0          0   0        0   1        0    1   \n",
       "1        0  ...             0     0          0   1        1   0        0    1   \n",
       "2        1  ...             0     1          1   0        0   1        1    0   \n",
       "\n",
       "   was also  was good  \n",
       "0         0         1  \n",
       "1         1         0  \n",
       "2         0         0  \n",
       "\n",
       "[3 rows x 33 columns]"
      ]
     },
     "execution_count": 74,
     "metadata": {},
     "output_type": "execute_result"
    }
   ],
   "source": [
    "df"
   ]
  },
  {
   "cell_type": "markdown",
   "id": "a63b2280",
   "metadata": {},
   "source": [
    "#### TF*IDF Vectorizer ####"
   ]
  },
  {
   "cell_type": "code",
   "execution_count": 75,
   "id": "dc6b0165",
   "metadata": {},
   "outputs": [],
   "source": [
    "# import thr class\n",
    "from sklearn.feature_extraction.text import TfidfVectorizer"
   ]
  },
  {
   "cell_type": "code",
   "execution_count": 76,
   "id": "fd99493f",
   "metadata": {},
   "outputs": [],
   "source": [
    "# create the object\n",
    "tfidf = TfidfVectorizer()"
   ]
  },
  {
   "cell_type": "code",
   "execution_count": 77,
   "id": "dc0cd8e4",
   "metadata": {},
   "outputs": [],
   "source": [
    "# apply the algorithm\n",
    "new_data = tfidf.fit_transform([sentence_1, sentence_2, sentence_3])"
   ]
  },
  {
   "cell_type": "code",
   "execution_count": 78,
   "id": "2bdb9486",
   "metadata": {},
   "outputs": [
    {
     "data": {
      "text/plain": [
       "array([[0.        , 0.        , 0.        , 0.        , 0.42246056,\n",
       "        0.32807831, 0.        , 0.42246056, 0.        , 0.        ,\n",
       "        0.42246056, 0.        , 0.        , 0.42246056, 0.42246056],\n",
       "       [0.37162591, 0.        , 0.37162591, 0.        , 0.        ,\n",
       "        0.21948825, 0.        , 0.56526217, 0.37162591, 0.        ,\n",
       "        0.        , 0.        , 0.37162591, 0.        , 0.28263108],\n",
       "       [0.        , 0.37571621, 0.        , 0.37571621, 0.28574186,\n",
       "        0.22190405, 0.37571621, 0.        , 0.        , 0.37571621,\n",
       "        0.28574186, 0.37571621, 0.        , 0.28574186, 0.        ]])"
      ]
     },
     "execution_count": 78,
     "metadata": {},
     "output_type": "execute_result"
    }
   ],
   "source": [
    "new_data.toarray()"
   ]
  },
  {
   "cell_type": "code",
   "execution_count": 79,
   "id": "f3d8d19b",
   "metadata": {},
   "outputs": [
    {
     "data": {
      "text/plain": [
       "array(['about', 'all', 'also', 'done', 'for', 'good', 'have', 'it',\n",
       "       'know', 'of', 'practice', 'they', 'to', 'us', 'was'], dtype=object)"
      ]
     },
     "execution_count": 79,
     "metadata": {},
     "output_type": "execute_result"
    }
   ],
   "source": [
    "tfidf.get_feature_names_out()"
   ]
  },
  {
   "cell_type": "code",
   "execution_count": 80,
   "id": "69f698fb",
   "metadata": {},
   "outputs": [],
   "source": [
    "df = pd.DataFrame(data=new_data.toarray(),\n",
    "                 columns=tfidf.get_feature_names_out())"
   ]
  },
  {
   "cell_type": "code",
   "execution_count": 81,
   "id": "c69b6408",
   "metadata": {},
   "outputs": [
    {
     "data": {
      "text/html": [
       "<div>\n",
       "<style scoped>\n",
       "    .dataframe tbody tr th:only-of-type {\n",
       "        vertical-align: middle;\n",
       "    }\n",
       "\n",
       "    .dataframe tbody tr th {\n",
       "        vertical-align: top;\n",
       "    }\n",
       "\n",
       "    .dataframe thead th {\n",
       "        text-align: right;\n",
       "    }\n",
       "</style>\n",
       "<table border=\"1\" class=\"dataframe\">\n",
       "  <thead>\n",
       "    <tr style=\"text-align: right;\">\n",
       "      <th></th>\n",
       "      <th>about</th>\n",
       "      <th>all</th>\n",
       "      <th>also</th>\n",
       "      <th>done</th>\n",
       "      <th>for</th>\n",
       "      <th>good</th>\n",
       "      <th>have</th>\n",
       "      <th>it</th>\n",
       "      <th>know</th>\n",
       "      <th>of</th>\n",
       "      <th>practice</th>\n",
       "      <th>they</th>\n",
       "      <th>to</th>\n",
       "      <th>us</th>\n",
       "      <th>was</th>\n",
       "    </tr>\n",
       "  </thead>\n",
       "  <tbody>\n",
       "    <tr>\n",
       "      <th>0</th>\n",
       "      <td>0.000000</td>\n",
       "      <td>0.000000</td>\n",
       "      <td>0.000000</td>\n",
       "      <td>0.000000</td>\n",
       "      <td>0.422461</td>\n",
       "      <td>0.328078</td>\n",
       "      <td>0.000000</td>\n",
       "      <td>0.422461</td>\n",
       "      <td>0.000000</td>\n",
       "      <td>0.000000</td>\n",
       "      <td>0.422461</td>\n",
       "      <td>0.000000</td>\n",
       "      <td>0.000000</td>\n",
       "      <td>0.422461</td>\n",
       "      <td>0.422461</td>\n",
       "    </tr>\n",
       "    <tr>\n",
       "      <th>1</th>\n",
       "      <td>0.371626</td>\n",
       "      <td>0.000000</td>\n",
       "      <td>0.371626</td>\n",
       "      <td>0.000000</td>\n",
       "      <td>0.000000</td>\n",
       "      <td>0.219488</td>\n",
       "      <td>0.000000</td>\n",
       "      <td>0.565262</td>\n",
       "      <td>0.371626</td>\n",
       "      <td>0.000000</td>\n",
       "      <td>0.000000</td>\n",
       "      <td>0.000000</td>\n",
       "      <td>0.371626</td>\n",
       "      <td>0.000000</td>\n",
       "      <td>0.282631</td>\n",
       "    </tr>\n",
       "    <tr>\n",
       "      <th>2</th>\n",
       "      <td>0.000000</td>\n",
       "      <td>0.375716</td>\n",
       "      <td>0.000000</td>\n",
       "      <td>0.375716</td>\n",
       "      <td>0.285742</td>\n",
       "      <td>0.221904</td>\n",
       "      <td>0.375716</td>\n",
       "      <td>0.000000</td>\n",
       "      <td>0.000000</td>\n",
       "      <td>0.375716</td>\n",
       "      <td>0.285742</td>\n",
       "      <td>0.375716</td>\n",
       "      <td>0.000000</td>\n",
       "      <td>0.285742</td>\n",
       "      <td>0.000000</td>\n",
       "    </tr>\n",
       "  </tbody>\n",
       "</table>\n",
       "</div>"
      ],
      "text/plain": [
       "      about       all      also      done       for      good      have  \\\n",
       "0  0.000000  0.000000  0.000000  0.000000  0.422461  0.328078  0.000000   \n",
       "1  0.371626  0.000000  0.371626  0.000000  0.000000  0.219488  0.000000   \n",
       "2  0.000000  0.375716  0.000000  0.375716  0.285742  0.221904  0.375716   \n",
       "\n",
       "         it      know        of  practice      they        to        us  \\\n",
       "0  0.422461  0.000000  0.000000  0.422461  0.000000  0.000000  0.422461   \n",
       "1  0.565262  0.371626  0.000000  0.000000  0.000000  0.371626  0.000000   \n",
       "2  0.000000  0.000000  0.375716  0.285742  0.375716  0.000000  0.285742   \n",
       "\n",
       "        was  \n",
       "0  0.422461  \n",
       "1  0.282631  \n",
       "2  0.000000  "
      ]
     },
     "execution_count": 81,
     "metadata": {},
     "output_type": "execute_result"
    }
   ],
   "source": [
    "df"
   ]
  }
 ],
 "metadata": {
  "kernelspec": {
   "display_name": "Python 3 (ipykernel)",
   "language": "python",
   "name": "python3"
  },
  "language_info": {
   "codemirror_mode": {
    "name": "ipython",
    "version": 3
   },
   "file_extension": ".py",
   "mimetype": "text/x-python",
   "name": "python",
   "nbconvert_exporter": "python",
   "pygments_lexer": "ipython3",
   "version": "3.9.12"
  }
 },
 "nbformat": 4,
 "nbformat_minor": 5
}
