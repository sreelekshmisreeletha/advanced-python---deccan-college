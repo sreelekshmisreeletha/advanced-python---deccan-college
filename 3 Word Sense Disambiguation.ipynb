{
 "cells": [
  {
   "cell_type": "code",
   "execution_count": 2,
   "id": "9f13fb1a",
   "metadata": {},
   "outputs": [],
   "source": [
    "import nltk"
   ]
  },
  {
   "cell_type": "code",
   "execution_count": 3,
   "id": "5a9859e4",
   "metadata": {},
   "outputs": [
    {
     "name": "stderr",
     "output_type": "stream",
     "text": [
      "[nltk_data] Downloading package wordnet to\n",
      "[nltk_data]     C:\\Users\\Dell\\AppData\\Roaming\\nltk_data...\n",
      "[nltk_data]   Package wordnet is already up-to-date!\n"
     ]
    },
    {
     "data": {
      "text/plain": [
       "True"
      ]
     },
     "execution_count": 3,
     "metadata": {},
     "output_type": "execute_result"
    }
   ],
   "source": [
    "nltk.download('wordnet')"
   ]
  },
  {
   "cell_type": "code",
   "execution_count": 4,
   "id": "fe6caac0",
   "metadata": {},
   "outputs": [],
   "source": [
    "from nltk.corpus import wordnet"
   ]
  },
  {
   "cell_type": "code",
   "execution_count": 5,
   "id": "af7fdb87",
   "metadata": {},
   "outputs": [],
   "source": [
    "x = wordnet.synsets('create')"
   ]
  },
  {
   "cell_type": "code",
   "execution_count": 6,
   "id": "f879df7f",
   "metadata": {},
   "outputs": [
    {
     "data": {
      "text/plain": [
       "[Synset('make.v.03'),\n",
       " Synset('create.v.02'),\n",
       " Synset('create.v.03'),\n",
       " Synset('create.v.04'),\n",
       " Synset('create.v.05'),\n",
       " Synset('produce.v.02')]"
      ]
     },
     "execution_count": 6,
     "metadata": {},
     "output_type": "execute_result"
    }
   ],
   "source": [
    "x"
   ]
  },
  {
   "cell_type": "code",
   "execution_count": 7,
   "id": "219090a3",
   "metadata": {},
   "outputs": [
    {
     "data": {
      "text/plain": [
       "'make.v.03'"
      ]
     },
     "execution_count": 7,
     "metadata": {},
     "output_type": "execute_result"
    }
   ],
   "source": [
    "x[0].name()"
   ]
  },
  {
   "cell_type": "code",
   "execution_count": 9,
   "id": "751b911d",
   "metadata": {},
   "outputs": [
    {
     "data": {
      "text/plain": [
       "'make or cause to be or to become'"
      ]
     },
     "execution_count": 9,
     "metadata": {},
     "output_type": "execute_result"
    }
   ],
   "source": [
    "x[0].definition()"
   ]
  },
  {
   "cell_type": "code",
   "execution_count": 11,
   "id": "c2da5996",
   "metadata": {},
   "outputs": [
    {
     "name": "stdout",
     "output_type": "stream",
     "text": [
      "make.v.03 : make or cause to be or to become\n",
      "create.v.02 : bring into existence\n",
      "create.v.03 : pursue a creative activity; be engaged in a creative activity\n",
      "create.v.04 : invest with a new title, office, or rank\n",
      "create.v.05 : create by artistic means\n",
      "produce.v.02 : create or manufacture a man-made product\n"
     ]
    }
   ],
   "source": [
    "for word in x:\n",
    "    print(word.name(),\":\", word.definition())"
   ]
  },
  {
   "cell_type": "code",
   "execution_count": 12,
   "id": "5696b5e2",
   "metadata": {},
   "outputs": [
    {
     "name": "stdout",
     "output_type": "stream",
     "text": [
      "post.n.01 : the position where someone (as a guard or sentry) stands or is assigned to stand\n",
      "military_post.n.01 : military installation at which a body of troops is stationed\n",
      "position.n.06 : a job in an organization\n",
      "post.n.04 : an upright consisting of a piece of timber or metal fixed firmly in an upright position\n",
      "post.n.05 : United States aviator who in 1933 made the first solo flight around the world (1899-1935)\n",
      "post.n.06 : United States female author who wrote a book and a syndicated newspaper column on etiquette (1872-1960)\n",
      "post.n.07 : United States manufacturer of breakfast cereals and Postum (1854-1914)\n",
      "mail.n.04 : any particular collection of letters or packages that is delivered\n",
      "post.n.09 : a pole or stake set up to mark something (as the start or end of a race track)\n",
      "mail.n.02 : the system whereby messages are transmitted via the post office\n",
      "post.n.11 : the delivery and collection of letters and packages\n",
      "post.v.01 : affix in a public place or for public notice\n",
      "post.v.02 : publicize with, or as if with, a poster\n",
      "post.v.03 : assign to a post; put into a post\n",
      "station.v.01 : assign to a station\n",
      "post.v.05 : display, as of records in sports games\n",
      "post.v.06 : enter on a public list\n",
      "post.v.07 : transfer (entries) from one account book to another\n",
      "post.v.08 : ride Western style and bob up and down in the saddle in rhythm with a horse's trotting gait\n",
      "stake.v.03 : mark with a stake\n",
      "post.v.10 : place so as to be noticed\n",
      "mail.v.02 : cause to be directed or transmitted to another place\n",
      "post.v.12 : mark or expose as infamous\n"
     ]
    }
   ],
   "source": [
    "x = wordnet.synsets('post')\n",
    "for word in x:\n",
    "    print(word.name(),\":\", word.definition())"
   ]
  },
  {
   "cell_type": "code",
   "execution_count": 13,
   "id": "599fc03e",
   "metadata": {},
   "outputs": [
    {
     "name": "stdout",
     "output_type": "stream",
     "text": [
      "post.n.01 : [Synset('bridgehead.n.02'), Synset('lookout.n.02'), Synset('outstation.n.01')]\n",
      "military_post.n.01 : [Synset('garrison.n.01'), Synset('outpost.n.03')]\n",
      "position.n.06 : [Synset('academicianship.n.01'), Synset('accountantship.n.01'), Synset('admiralty.n.02'), Synset('ambassadorship.n.01'), Synset('apostleship.n.01'), Synset('apprenticeship.n.01'), Synset('associateship.n.01'), Synset('attorneyship.n.01'), Synset('bailiffship.n.01'), Synset('baronetage.n.02'), Synset('bishopry.n.01'), Synset('cadetship.n.01'), Synset('caliphate.n.03'), Synset('captainship.n.01'), Synset('cardinalship.n.01'), Synset('chairmanship.n.01'), Synset('chancellorship.n.01'), Synset('chaplaincy.n.01'), Synset('chieftaincy.n.01'), Synset('clerkship.n.01'), Synset('commandership.n.01'), Synset('comptrollership.n.01'), Synset('consulship.n.01'), Synset('controllership.n.01'), Synset('councillorship.n.01'), Synset('counselorship.n.01'), Synset('curacy.n.01'), Synset('curatorship.n.01'), Synset('custodianship.n.01'), Synset('deanship.n.01'), Synset('directorship.n.01'), Synset('discipleship.n.01'), Synset('editorship.n.01'), Synset('eldership.n.01'), Synset('emirate.n.02'), Synset('fatherhood.n.03'), Synset('fatherhood.n.04'), Synset('foremanship.n.01'), Synset('generalship.n.02'), Synset('governorship.n.01'), Synset('headship.n.01'), Synset('headship.n.02'), Synset('hot_seat.n.02'), Synset('incumbency.n.03'), Synset('inspectorship.n.01'), Synset('instructorship.n.01'), Synset('internship.n.01'), Synset('judgeship.n.01'), Synset('khanate.n.02'), Synset('lectureship.n.01'), Synset('legation.n.01'), Synset('legislatorship.n.01'), Synset('librarianship.n.01'), Synset('lieutenancy.n.01'), Synset('magistracy.n.01'), Synset('managership.n.01'), Synset('manhood.n.03'), Synset('marshalship.n.01'), Synset('mastership.n.02'), Synset('mayoralty.n.01'), Synset('messiahship.n.01'), Synset('moderatorship.n.01'), Synset('overlordship.n.01'), Synset('pastorship.n.01'), Synset('peasanthood.n.01'), Synset('plum.n.03'), Synset('praetorship.n.01'), Synset('precentorship.n.01'), Synset('preceptorship.n.01'), Synset('prefecture.n.02'), Synset('prelacy.n.02'), Synset('premiership.n.01'), Synset('presidency.n.02'), Synset('primateship.n.01'), Synset('principalship.n.01'), Synset('priorship.n.01'), Synset('proconsulship.n.01'), Synset('proctorship.n.01'), Synset('professorship.n.01'), Synset('protectorship.n.01'), Synset('public_office.n.01'), Synset('rabbinate.n.02'), Synset('receivership.n.03'), Synset('rectorship.n.01'), Synset('regency.n.03'), Synset('residency.n.02'), Synset('rulership.n.01'), Synset('sainthood.n.02'), Synset('secretaryship.n.01'), Synset('seigniory.n.02'), Synset('senatorship.n.01'), Synset('sinecure.n.02'), Synset('solicitorship.n.01'), Synset('speakership.n.01'), Synset('stewardship.n.01'), Synset('studentship.n.01'), Synset('teachership.n.01'), Synset('thaneship.n.01'), Synset('throne.n.03'), Synset('treasurership.n.01'), Synset('tribuneship.n.01'), Synset('trusteeship.n.02'), Synset('vice-presidency.n.02'), Synset('viceroyship.n.01'), Synset('viziership.n.01'), Synset('wardenship.n.01'), Synset('wardership.n.01'), Synset('womanhood.n.03')]\n",
      "post.n.04 : [Synset('bollard.n.01'), Synset('carrick_bitt.n.01'), Synset('corner_post.n.01'), Synset('gatepost.n.01'), Synset('goalpost.n.01'), Synset('hitching_post.n.01'), Synset('hop_pole.n.01'), Synset('king_post.n.01'), Synset('lamppost.n.01'), Synset('maypole.n.01'), Synset('newel_post.n.01'), Synset('queen_post.n.01'), Synset('rudderpost.n.01'), Synset('stake.n.05'), Synset('stanchion.n.01'), Synset('standard.n.05'), Synset('stump.n.03'), Synset('telephone_pole.n.01'), Synset('timber.n.03'), Synset('whipping_post.n.01')]\n",
      "post.n.05 : []\n",
      "post.n.06 : []\n",
      "post.n.07 : []\n",
      "mail.n.04 : [Synset('fan_mail.n.01'), Synset('hate_mail.n.01'), Synset('mailing.n.01')]\n",
      "post.n.09 : [Synset('starting_post.n.01'), Synset('winning_post.n.01')]\n",
      "mail.n.02 : [Synset('airmail.n.02'), Synset('rural_free_delivery.n.01'), Synset('snail_mail.n.01')]\n",
      "post.n.11 : []\n",
      "post.v.01 : [Synset('placard.v.01')]\n",
      "post.v.02 : [Synset('placard.v.02')]\n",
      "post.v.03 : []\n",
      "station.v.01 : [Synset('fort.v.03'), Synset('garrison.v.01'), Synset('locate.v.03')]\n",
      "post.v.05 : []\n",
      "post.v.06 : []\n",
      "post.v.07 : []\n",
      "post.v.08 : []\n",
      "stake.v.03 : []\n",
      "post.v.10 : []\n",
      "mail.v.02 : [Synset('airmail.v.01'), Synset('express-mail.v.01'), Synset('express.v.07'), Synset('register.v.09')]\n",
      "post.v.12 : []\n"
     ]
    }
   ],
   "source": [
    "for word in x:\n",
    "    print(word.name(),\":\", word.hyponyms())"
   ]
  },
  {
   "cell_type": "code",
   "execution_count": 20,
   "id": "3db7eefa",
   "metadata": {},
   "outputs": [
    {
     "name": "stdout",
     "output_type": "stream",
     "text": [
      "bulb.n.01 : a modified bud consisting of a thickened globular underground stem serving as a reproductive structure\n",
      "light_bulb.n.01 : electric lamp consisting of a transparent or translucent glass housing containing a wire filament (usually tungsten) that emits light when heated by electricity\n",
      "bulb.n.03 : a rounded part of a cylindrical instrument (usually at one end)\n",
      "bulb.n.04 : anything with a round shape resembling a teardrop\n",
      "medulla_oblongata.n.01 : lower or hindmost part of the brain; continuous with spinal cord; (`bulb' is an old term for medulla oblongata)\n",
      "bulb.n.06 : a rounded dilation or expansion in a canal or vessel or organ\n"
     ]
    }
   ],
   "source": [
    "x = wordnet.synsets('bulb')\n",
    "for word in x:\n",
    "    print(word.name(),\":\",word.definition())"
   ]
  },
  {
   "cell_type": "code",
   "execution_count": 6,
   "id": "1a55e809",
   "metadata": {},
   "outputs": [],
   "source": [
    "from nltk.wsd import lesk\n",
    "from nltk.tokenize import word_tokenize"
   ]
  },
  {
   "cell_type": "code",
   "execution_count": 7,
   "id": "a52b91bf",
   "metadata": {},
   "outputs": [],
   "source": [
    "a1 = lesk(word_tokenize('This device is used to jam the signal'), 'jam')"
   ]
  },
  {
   "cell_type": "code",
   "execution_count": 8,
   "id": "df49c8db",
   "metadata": {},
   "outputs": [
    {
     "data": {
      "text/plain": [
       "'deliberate radiation or reflection of electromagnetic energy for the purpose of disrupting enemy use of electronic devices or systems'"
      ]
     },
     "execution_count": 8,
     "metadata": {},
     "output_type": "execute_result"
    }
   ],
   "source": [
    "a1.definition()"
   ]
  },
  {
   "cell_type": "code",
   "execution_count": 9,
   "id": "d8ce7437",
   "metadata": {},
   "outputs": [],
   "source": [
    "a1 = lesk(word_tokenize('I am stuck in a traffic jam'),'jam')"
   ]
  },
  {
   "cell_type": "code",
   "execution_count": 10,
   "id": "19f4fc60",
   "metadata": {},
   "outputs": [
    {
     "data": {
      "text/plain": [
       "'get stuck and immobilized'"
      ]
     },
     "execution_count": 10,
     "metadata": {},
     "output_type": "execute_result"
    }
   ],
   "source": [
    "a1.definition()"
   ]
  },
  {
   "cell_type": "code",
   "execution_count": 13,
   "id": "90992aa3",
   "metadata": {},
   "outputs": [
    {
     "data": {
      "text/plain": [
       "'discover or come upon accidentally, suddenly, or unexpectedly; catch somebody doing something or in a certain state'"
      ]
     },
     "execution_count": 13,
     "metadata": {},
     "output_type": "execute_result"
    }
   ],
   "source": [
    "c1 = lesk(word_tokenize('It was a good catch by player'),'catch')\n",
    "c1.definition()"
   ]
  },
  {
   "cell_type": "code",
   "execution_count": 14,
   "id": "899eaa09",
   "metadata": {},
   "outputs": [
    {
     "data": {
      "text/plain": [
       "'catch up with and possibly overtake'"
      ]
     },
     "execution_count": 14,
     "metadata": {},
     "output_type": "execute_result"
    }
   ],
   "source": [
    "c2 = lesk(word_tokenize('You can catch that opportunity'),'catch')\n",
    "c2.definition()"
   ]
  }
 ],
 "metadata": {
  "kernelspec": {
   "display_name": "Python 3 (ipykernel)",
   "language": "python",
   "name": "python3"
  },
  "language_info": {
   "codemirror_mode": {
    "name": "ipython",
    "version": 3
   },
   "file_extension": ".py",
   "mimetype": "text/x-python",
   "name": "python",
   "nbconvert_exporter": "python",
   "pygments_lexer": "ipython3",
   "version": "3.9.12"
  }
 },
 "nbformat": 4,
 "nbformat_minor": 5
}
