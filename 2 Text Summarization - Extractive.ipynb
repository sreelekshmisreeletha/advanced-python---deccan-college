{
 "cells": [
  {
   "cell_type": "markdown",
   "id": "40866dd7",
   "metadata": {},
   "source": [
    "#### Install the libraries"
   ]
  },
  {
   "cell_type": "code",
   "execution_count": null,
   "id": "bf512918",
   "metadata": {},
   "outputs": [],
   "source": [
    "sumy -> Extractive Summerization\n",
    "transformer -> Abstractive Summerization"
   ]
  },
  {
   "cell_type": "code",
   "execution_count": 1,
   "id": "411951e1",
   "metadata": {},
   "outputs": [
    {
     "name": "stdout",
     "output_type": "stream",
     "text": [
      "Collecting sumy\n",
      "  Downloading sumy-0.11.0-py2.py3-none-any.whl (97 kB)\n",
      "Collecting transformers\n",
      "  Downloading transformers-4.40.2-py3-none-any.whl (9.0 MB)\n",
      "Collecting pycountry>=18.2.23\n",
      "  Downloading pycountry-23.12.11-py3-none-any.whl (6.2 MB)\n",
      "Requirement already satisfied: nltk>=3.0.2 in c:\\users\\dell\\anaconda3\\lib\\site-packages (from sumy) (3.8.1)\n",
      "Collecting docopt<0.7,>=0.6.1\n",
      "  Downloading docopt-0.6.2.tar.gz (25 kB)\n",
      "Requirement already satisfied: requests>=2.7.0 in c:\\users\\dell\\anaconda3\\lib\\site-packages (from sumy) (2.27.1)\n",
      "Collecting breadability>=0.1.20\n",
      "  Downloading breadability-0.1.20.tar.gz (32 kB)\n",
      "Requirement already satisfied: filelock in c:\\users\\dell\\anaconda3\\lib\\site-packages (from transformers) (3.6.0)\n",
      "Requirement already satisfied: packaging>=20.0 in c:\\users\\dell\\anaconda3\\lib\\site-packages (from transformers) (21.3)\n",
      "Requirement already satisfied: regex!=2019.12.17 in c:\\users\\dell\\anaconda3\\lib\\site-packages (from transformers) (2022.3.15)\n",
      "Collecting safetensors>=0.4.1\n",
      "  Downloading safetensors-0.4.3-cp39-none-win_amd64.whl (287 kB)\n",
      "Collecting tokenizers<0.20,>=0.19\n",
      "  Downloading tokenizers-0.19.1-cp39-none-win_amd64.whl (2.2 MB)\n",
      "Requirement already satisfied: pyyaml>=5.1 in c:\\users\\dell\\anaconda3\\lib\\site-packages (from transformers) (6.0)\n",
      "Collecting huggingface-hub<1.0,>=0.19.3\n",
      "  Downloading huggingface_hub-0.23.0-py3-none-any.whl (401 kB)\n",
      "Requirement already satisfied: numpy>=1.17 in c:\\users\\dell\\anaconda3\\lib\\site-packages (from transformers) (1.21.5)\n",
      "Requirement already satisfied: tqdm>=4.27 in c:\\users\\dell\\anaconda3\\lib\\site-packages (from transformers) (4.64.0)\n",
      "Requirement already satisfied: chardet in c:\\users\\dell\\anaconda3\\lib\\site-packages (from breadability>=0.1.20->sumy) (4.0.0)\n",
      "Requirement already satisfied: lxml>=2.0 in c:\\users\\dell\\anaconda3\\lib\\site-packages (from breadability>=0.1.20->sumy) (4.8.0)\n",
      "Requirement already satisfied: typing-extensions>=3.7.4.3 in c:\\users\\dell\\anaconda3\\lib\\site-packages (from huggingface-hub<1.0,>=0.19.3->transformers) (4.11.0)\n",
      "Collecting fsspec>=2023.5.0\n",
      "  Downloading fsspec-2024.3.1-py3-none-any.whl (171 kB)\n",
      "Requirement already satisfied: joblib in c:\\users\\dell\\anaconda3\\lib\\site-packages (from nltk>=3.0.2->sumy) (1.1.0)\n",
      "Requirement already satisfied: click in c:\\users\\dell\\anaconda3\\lib\\site-packages (from nltk>=3.0.2->sumy) (8.0.4)\n",
      "Requirement already satisfied: pyparsing!=3.0.5,>=2.0.2 in c:\\users\\dell\\anaconda3\\lib\\site-packages (from packaging>=20.0->transformers) (3.0.4)\n",
      "Requirement already satisfied: certifi>=2017.4.17 in c:\\users\\dell\\anaconda3\\lib\\site-packages (from requests>=2.7.0->sumy) (2021.10.8)\n",
      "Requirement already satisfied: charset-normalizer~=2.0.0 in c:\\users\\dell\\anaconda3\\lib\\site-packages (from requests>=2.7.0->sumy) (2.0.4)\n",
      "Requirement already satisfied: urllib3<1.27,>=1.21.1 in c:\\users\\dell\\anaconda3\\lib\\site-packages (from requests>=2.7.0->sumy) (1.26.9)\n",
      "Requirement already satisfied: idna<4,>=2.5 in c:\\users\\dell\\anaconda3\\lib\\site-packages (from requests>=2.7.0->sumy) (3.3)\n",
      "Requirement already satisfied: colorama in c:\\users\\dell\\anaconda3\\lib\\site-packages (from tqdm>=4.27->transformers) (0.4.6)\n",
      "Building wheels for collected packages: breadability, docopt\n",
      "  Building wheel for breadability (setup.py): started\n",
      "Note: you may need to restart the kernel to use updated packages.\n",
      "  Building wheel for breadability (setup.py): finished with status 'done'\n",
      "  Created wheel for breadability: filename=breadability-0.1.20-py2.py3-none-any.whl size=21712 sha256=ae44ec3e5f8808719d836a85ec633ae828bd8e45dd9dd5842fc93e3ba556f734\n",
      "  Stored in directory: c:\\users\\dell\\appdata\\local\\pip\\cache\\wheels\\ba\\9f\\70\\7795228568b81b57a8932755938da9fb1f291b0576752604aa\n",
      "  Building wheel for docopt (setup.py): started\n",
      "  Building wheel for docopt (setup.py): finished with status 'done'\n",
      "  Created wheel for docopt: filename=docopt-0.6.2-py2.py3-none-any.whl size=13723 sha256=a2c435edac2e0f67fccb11e6769b7339f63ffc9dff3630c99e60098533dc7f44\n",
      "  Stored in directory: c:\\users\\dell\\appdata\\local\\pip\\cache\\wheels\\70\\4a\\46\\1309fc853b8d395e60bafaf1b6df7845bdd82c95fd59dd8d2b\n",
      "Successfully built breadability docopt\n",
      "Installing collected packages: fsspec, huggingface-hub, docopt, tokenizers, safetensors, pycountry, breadability, transformers, sumy\n"
     ]
    },
    {
     "name": "stderr",
     "output_type": "stream",
     "text": [
      "WARNING: Ignoring invalid distribution - (c:\\users\\dell\\anaconda3\\lib\\site-packages)\n",
      "WARNING: Ignoring invalid distribution - (c:\\users\\dell\\anaconda3\\lib\\site-packages)\n",
      "WARNING: Ignoring invalid distribution - (c:\\users\\dell\\anaconda3\\lib\\site-packages)\n",
      "    WARNING: Ignoring invalid distribution - (c:\\users\\dell\\anaconda3\\lib\\site-packages)\n",
      "WARNING: Ignoring invalid distribution - (c:\\users\\dell\\anaconda3\\lib\\site-packages)\n",
      "WARNING: Ignoring invalid distribution - (c:\\users\\dell\\anaconda3\\lib\\site-packages)\n",
      "WARNING: Ignoring invalid distribution - (c:\\users\\dell\\anaconda3\\lib\\site-packages)\n",
      "WARNING: Ignoring invalid distribution - (c:\\users\\dell\\anaconda3\\lib\\site-packages)\n",
      "WARNING: Ignoring invalid distribution - (c:\\users\\dell\\anaconda3\\lib\\site-packages)\n",
      "WARNING: Ignoring invalid distribution - (c:\\users\\dell\\anaconda3\\lib\\site-packages)\n",
      "WARNING: Ignoring invalid distribution - (c:\\users\\dell\\anaconda3\\lib\\site-packages)\n",
      "WARNING: Ignoring invalid distribution - (c:\\users\\dell\\anaconda3\\lib\\site-packages)\n",
      "WARNING: Ignoring invalid distribution - (c:\\users\\dell\\anaconda3\\lib\\site-packages)\n",
      "WARNING: Ignoring invalid distribution - (c:\\users\\dell\\anaconda3\\lib\\site-packages)\n",
      "WARNING: Ignoring invalid distribution - (c:\\users\\dell\\anaconda3\\lib\\site-packages)\n",
      "WARNING: Ignoring invalid distribution - (c:\\users\\dell\\anaconda3\\lib\\site-packages)\n"
     ]
    },
    {
     "name": "stdout",
     "output_type": "stream",
     "text": [
      "  Attempting uninstall: fsspec\n",
      "    Found existing installation: fsspec 2022.2.0\n",
      "    Uninstalling fsspec-2022.2.0:\n",
      "      Successfully uninstalled fsspec-2022.2.0\n",
      "Successfully installed breadability-0.1.20 docopt-0.6.2 fsspec-2024.3.1 huggingface-hub-0.23.0 pycountry-23.12.11 safetensors-0.4.3 sumy-0.11.0 tokenizers-0.19.1 transformers-4.40.2\n"
     ]
    }
   ],
   "source": [
    "pip install sumy transformers"
   ]
  },
  {
   "cell_type": "code",
   "execution_count": 2,
   "id": "acd6e4f6",
   "metadata": {},
   "outputs": [],
   "source": [
    "#import the class\n",
    "from sumy.summarizers.text_rank import TextRankSummarizer"
   ]
  },
  {
   "cell_type": "code",
   "execution_count": 10,
   "id": "e61fee95",
   "metadata": {},
   "outputs": [],
   "source": [
    "#import parser and tokenizers\n",
    "from sumy.parsers.plaintext import PlaintextParser\n",
    "from sumy.nlp.tokenizers import Tokenizer"
   ]
  },
  {
   "cell_type": "code",
   "execution_count": 11,
   "id": "6f753941",
   "metadata": {},
   "outputs": [
    {
     "name": "stderr",
     "output_type": "stream",
     "text": [
      "[nltk_data] Downloading package punkt to\n",
      "[nltk_data]     C:\\Users\\Dell\\AppData\\Roaming\\nltk_data...\n",
      "[nltk_data]   Package punkt is already up-to-date!\n"
     ]
    },
    {
     "data": {
      "text/plain": [
       "True"
      ]
     },
     "execution_count": 11,
     "metadata": {},
     "output_type": "execute_result"
    }
   ],
   "source": [
    "import nltk\n",
    "nltk.download('punkt')"
   ]
  },
  {
   "cell_type": "code",
   "execution_count": 12,
   "id": "55ef42ce",
   "metadata": {},
   "outputs": [],
   "source": [
    "sent = '''The Bengal tiger is a population of the Panthera tigris tigris subspecies and the nominate tiger subspecies.[1] It ranks among the biggest wild cats alive today.[2][3] It is considered to belong to the world's charismatic megafauna.[4]\n",
    "\n",
    "The tiger is estimated to have been present in the Indian subcontinent since the Late Pleistocene, for about 12,000 to 16,500 years.[5][6][7] Today, it is threatened by poaching, loss and fragmentation of habitat, and was estimated at comprising fewer than 2,500 wild individuals by 2011. None of the Tiger Conservation Landscapes within its range is considered large enough to support an effective population of more than 250 adult individuals.[8]\n",
    "\n",
    "The Bengal tiger's historical range covered the Indus River valley until the early 19th century, almost all of India, Pakistan, southern Nepal, Bangladesh, Bhutan, and southwestern China. Today, it inhabits India, Bangladesh, Nepal, Bhutan, and southwestern China.[6] India's tiger population was estimated at 2,603–3,346 individuals by 2018.[9] Around 300–500 individuals are estimated in Bangladesh by 2015,[8] 355 in Nepal by 2022,[10] and 90 individuals in Bhutan by 2015.[11]\n",
    "\n",
    "Taxonomy\n",
    "Felis tigris was the scientific name used by Carl Linnaeus in 1758 for the tiger.[12] It was subordinated to the genus Panthera by Reginald Innes Pocock in 1929. Bengal is the traditional type locality of the species and the nominate subspecies Panthera tigris tigris.[13]\n",
    "\n",
    "The validity of several tiger subspecies in continental Asia was questioned in 1999. Morphologically, tigers from different regions vary little, and gene flow between populations in those regions is considered to have been possible during the Pleistocene. Therefore, it was proposed to recognise only two subspecies as valid, namely P. t. tigris in mainland Asia, and P. t. sondaica in the Greater Sunda Islands and possibly in Sundaland.[14] The nominate subspecies P. t. tigris constitutes two clades: the northern clade comprises the Siberian and Caspian tiger populations, and the southern clade all remaining continental tiger populations.[15] The extinct and living tiger populations in continental Asia have been subsumed to P. t. tigris since the revision of felid taxonomy in 2017.[1]\n",
    "\n",
    "Results of a genetic analysis of 32 tiger samples indicate that the Bengal tiger samples grouped into a different clade than the Siberian tiger samples.[16]\n",
    "\n",
    "Genetic ancestry\n",
    "The Bengal tiger is defined by three distinct mitochondrial nucleotide sites and 12 unique microsatellite alleles. The pattern of genetic variation in the Bengal tiger corresponds to the premise that it arrived in India approximately 12,000 years ago.[17] This is consistent with the lack of tiger fossils from the Indian subcontinent prior to the late Pleistocene, and the absence of tigers from Sri Lanka, which was separated from the subcontinent by rising sea levels in the early Holocene.[6]'''"
   ]
  },
  {
   "cell_type": "code",
   "execution_count": 13,
   "id": "259c2920",
   "metadata": {},
   "outputs": [
    {
     "name": "stdout",
     "output_type": "stream",
     "text": [
      "The Bengal tiger is a population of the Panthera tigris tigris subspecies and the nominate tiger subspecies.[1] It ranks among the biggest wild cats alive today.[2][3] It is considered to belong to the world's charismatic megafauna.[4]\n",
      "\n",
      "The tiger is estimated to have been present in the Indian subcontinent since the Late Pleistocene, for about 12,000 to 16,500 years.[5][6][7] Today, it is threatened by poaching, loss and fragmentation of habitat, and was estimated at comprising fewer than 2,500 wild individuals by 2011. None of the Tiger Conservation Landscapes within its range is considered large enough to support an effective population of more than 250 adult individuals.[8]\n",
      "\n",
      "The Bengal tiger's historical range covered the Indus River valley until the early 19th century, almost all of India, Pakistan, southern Nepal, Bangladesh, Bhutan, and southwestern China. Today, it inhabits India, Bangladesh, Nepal, Bhutan, and southwestern China.[6] India's tiger population was estimated at 2,603–3,346 individuals by 2018.[9] Around 300–500 individuals are estimated in Bangladesh by 2015,[8] 355 in Nepal by 2022,[10] and 90 individuals in Bhutan by 2015.[11]\n",
      "\n",
      "Taxonomy\n",
      "Felis tigris was the scientific name used by Carl Linnaeus in 1758 for the tiger.[12] It was subordinated to the genus Panthera by Reginald Innes Pocock in 1929. Bengal is the traditional type locality of the species and the nominate subspecies Panthera tigris tigris.[13]\n",
      "\n",
      "The validity of several tiger subspecies in continental Asia was questioned in 1999. Morphologically, tigers from different regions vary little, and gene flow between populations in those regions is considered to have been possible during the Pleistocene. Therefore, it was proposed to recognise only two subspecies as valid, namely P. t. tigris in mainland Asia, and P. t. sondaica in the Greater Sunda Islands and possibly in Sundaland.[14] The nominate subspecies P. t. tigris constitutes two clades: the northern clade comprises the Siberian and Caspian tiger populations, and the southern clade all remaining continental tiger populations.[15] The extinct and living tiger populations in continental Asia have been subsumed to P. t. tigris since the revision of felid taxonomy in 2017.[1]\n",
      "\n",
      "Results of a genetic analysis of 32 tiger samples indicate that the Bengal tiger samples grouped into a different clade than the Siberian tiger samples.[16]\n",
      "\n",
      "Genetic ancestry\n",
      "The Bengal tiger is defined by three distinct mitochondrial nucleotide sites and 12 unique microsatellite alleles. The pattern of genetic variation in the Bengal tiger corresponds to the premise that it arrived in India approximately 12,000 years ago.[17] This is consistent with the lack of tiger fossils from the Indian subcontinent prior to the late Pleistocene, and the absence of tigers from Sri Lanka, which was separated from the subcontinent by rising sea levels in the early Holocene.[6]\n"
     ]
    }
   ],
   "source": [
    "print(sent)"
   ]
  },
  {
   "cell_type": "code",
   "execution_count": 14,
   "id": "8ddc1746",
   "metadata": {},
   "outputs": [
    {
     "name": "stdout",
     "output_type": "stream",
     "text": [
      "23\n"
     ]
    }
   ],
   "source": [
    "from nltk.tokenize import sent_tokenize\n",
    "sents = sent_tokenize(sent)\n",
    "print(len(sents))"
   ]
  },
  {
   "cell_type": "code",
   "execution_count": 18,
   "id": "815c6769",
   "metadata": {},
   "outputs": [],
   "source": [
    "#initialize the parser\n",
    "my_parser = PlaintextParser.from_string(sent,Tokenizer('english'))"
   ]
  },
  {
   "cell_type": "code",
   "execution_count": 19,
   "id": "0247a257",
   "metadata": {},
   "outputs": [],
   "source": [
    "#create the object of summarizer\n",
    "tex_rank_summarizer = TextRankSummarizer()"
   ]
  },
  {
   "cell_type": "code",
   "execution_count": 20,
   "id": "795f636c",
   "metadata": {},
   "outputs": [],
   "source": [
    "#extract top 3 sentences\n",
    "summary = tex_rank_summarizer(my_parser.document, sentences_count=3)"
   ]
  },
  {
   "cell_type": "code",
   "execution_count": 21,
   "id": "2183cdfd",
   "metadata": {},
   "outputs": [
    {
     "data": {
      "text/plain": [
       "3"
      ]
     },
     "execution_count": 21,
     "metadata": {},
     "output_type": "execute_result"
    }
   ],
   "source": [
    "len(summary)"
   ]
  },
  {
   "cell_type": "code",
   "execution_count": 22,
   "id": "095140f9",
   "metadata": {},
   "outputs": [
    {
     "data": {
      "text/plain": [
       "(<Sentence: The Bengal tiger is a population of the Panthera tigris tigris subspecies and the nominate tiger subspecies.>,\n",
       " <Sentence: [14] The nominate subspecies P. t. tigris constitutes two clades: the northern clade comprises the Siberian and Caspian tiger populations, and the southern clade all remaining continental tiger populations.>,\n",
       " <Sentence: [17] This is consistent with the lack of tiger fossils from the Indian subcontinent prior to the late Pleistocene, and the absence of tigers from Sri Lanka, which was separated from the subcontinent by rising sea levels in the early Holocene.>)"
      ]
     },
     "execution_count": 22,
     "metadata": {},
     "output_type": "execute_result"
    }
   ],
   "source": [
    "summary"
   ]
  },
  {
   "cell_type": "code",
   "execution_count": 23,
   "id": "eb6e2e18",
   "metadata": {},
   "outputs": [],
   "source": [
    "#import the class\n",
    "from sumy.summarizers.lex_rank import LexRankSummarizer"
   ]
  },
  {
   "cell_type": "code",
   "execution_count": 24,
   "id": "361c05ad",
   "metadata": {},
   "outputs": [],
   "source": [
    "#create the object of summarizer\n",
    "lex_rank_summarizer = LexRankSummarizer()"
   ]
  },
  {
   "cell_type": "code",
   "execution_count": 25,
   "id": "6e4f674e",
   "metadata": {},
   "outputs": [],
   "source": [
    "#extract top 3 sentences\n",
    "summary = lex_rank_summarizer(my_parser.document, sentences_count=3)"
   ]
  },
  {
   "cell_type": "code",
   "execution_count": 26,
   "id": "52599a91",
   "metadata": {},
   "outputs": [
    {
     "name": "stdout",
     "output_type": "stream",
     "text": [
      "The Bengal tiger is a population of the Panthera tigris tigris subspecies and the nominate tiger subspecies. \n",
      "\n",
      "[9] Around 300–500 individuals are estimated in Bangladesh by 2015,[8] 355 in Nepal by 2022,[10] and 90 individuals in Bhutan by 2015. \n",
      "\n",
      "[15] The extinct and living tiger populations in continental Asia have been subsumed to P. t. tigris since the revision of felid taxonomy in 2017. \n",
      "\n"
     ]
    }
   ],
   "source": [
    "for x in summary:\n",
    "    print(x,'\\n')"
   ]
  },
  {
   "cell_type": "code",
   "execution_count": 27,
   "id": "5e531413",
   "metadata": {},
   "outputs": [],
   "source": [
    "#import the class\n",
    "from sumy.summarizers.lsa import LsaSummarizer"
   ]
  },
  {
   "cell_type": "code",
   "execution_count": 28,
   "id": "40729b6a",
   "metadata": {},
   "outputs": [],
   "source": [
    "#create the object of summarizer\n",
    "lsa_summarizer = LsaSummarizer()"
   ]
  },
  {
   "cell_type": "code",
   "execution_count": 29,
   "id": "1b313aca",
   "metadata": {},
   "outputs": [],
   "source": [
    "#extract top 3 sentences\n",
    "summary = lsa_summarizer(my_parser.document, sentences_count=3)"
   ]
  },
  {
   "cell_type": "code",
   "execution_count": 30,
   "id": "f4e14985",
   "metadata": {},
   "outputs": [
    {
     "name": "stdout",
     "output_type": "stream",
     "text": [
      "Today, it inhabits India, Bangladesh, Nepal, Bhutan, and southwestern China. \n",
      "\n",
      "[12] It was subordinated to the genus Panthera by Reginald Innes Pocock in 1929. \n",
      "\n",
      "Genetic ancestry The Bengal tiger is defined by three distinct mitochondrial nucleotide sites and 12 unique microsatellite alleles. \n",
      "\n"
     ]
    }
   ],
   "source": [
    "for x in summary:\n",
    "    print(x,'\\n')"
   ]
  },
  {
   "cell_type": "code",
   "execution_count": 3,
   "id": "01b78f71",
   "metadata": {},
   "outputs": [],
   "source": [
    "itext = '''മാംസഭുക്കുകൾ ആയ മാർജ്ജാരകുടുംബത്തിലെ വലിയ പൂച്ചകൾ ലെ (Felidae) ഏറ്റവും വലിയ ജീവിയാണ് കടുവ (ശാസ്ത്രീയ നാമം: Panthera Tigris). ഏഷ്യൻ വൻകരയിലാണ്‌ കടുവകളെ കണ്ടുവരുന്നത്‌. ഇന്ത്യയുടെ ദേശീയമൃഗം കടുവയുടെ ഉപവംശമായ ബംഗാൾ കടുവയാണ്.\n",
    "\n",
    "പ്രത്യേകതകൾ\n",
    "കടുംതവിട്ടു നിറത്തിലുള്ള ശരീരത്തിനു കുറുകെയുള്ള കറുത്ത വരകൾ കടുവകളെ കണ്ടാൽ ഇതരജന്തുക്കളിൽ നിന്നു പെട്ടെന്നു തിരിച്ചറിയാൻ സാധിക്കുന്നു. പക്ഷേ വനങ്ങളിലെ നിറങ്ങൾക്കനുസൃതമായതരത്തിൽ കടുവയെ സ്വയം ഒളിപ്പിച്ചു നിർത്തുവാനും അവയുടെ നിറം ഉപകരിക്കുന്നു. ഇരകളേയും മറ്റും ദീർഘനേരം ഇമവെട്ടാതെ നോക്കിയിരിക്കാനും ഇവക്കു കഴിയും.\n",
    "\n",
    "കായികം\n",
    "കാട്ടുപോത്ത്‌, കാട്ടുപന്നി, കേഴമാൻ മുതലായ മൃഗങ്ങളാണ്‌ സാധാരണ കടുവകളുടെ ഭക്ഷണം. എന്നാൽ ചുരുക്കം സന്ദർഭങ്ങളിൽ കാണ്ടാമൃഗം, ആന എന്നിവയെയും വേട്ടയാടാറുണ്ട്. കഴുത്തിനു പിറകിൽ തന്റെ ദംഷ്ട്രകളിറക്കിയാണ്‌ കടുവ ഇരകളെ കീഴടക്കുന്നത്‌. അങ്ങനെ ചെയ്യുന്നതു വഴി സുഷുമ്നാ നാഡി തകർക്കാനും ഇരകളെ വളരെ പെട്ടെന്നു തന്നെ നിർവീര്യമാക്കുവാനും കടുവയ്ക്കു കഴിയുന്നു.\n",
    "\n",
    "മാർജ്ജാര കുടുംബത്തിലെ ഇന്ന് ജിവിച്ചിരിക്കുന്നതിൽ ഏറ്റവും വലുതും ശക്തിയേറിയതുമായ അംഗമാണ്‌ കടുവ. പൂർണ്ണവളർച്ചയെത്തിയ ആൺകടുവക്ക്‌ 200 കിലോഗ്രാമെങ്കിലും ഭാരമുണ്ടാകും 300 കിലോഗ്രാമിലധികം ഭാരമുള്ള കടുവകളും അപൂർവ്വമല്ല. ഇന്ത്യയിൽ 1967-ൽ വെടിവച്ചുകൊന്ന ഒരു കടുവക്ക്‌ 390 കിലോഗ്രാം ഭാരമുണ്ടായിരുന്നു. [4][5] പെൺകടുവകൾ സാധാരണ 180 കിലോഗ്രാമിലധികം ഭാരം വയ്ക്കാറില്ല. 3 മീറ്റർ ആണ്‌ ആൺകടുവകളുടെ ശരാശരി നീളം, പെൺകടുവകൾക്കിത്‌ 2.5 മീറ്ററായി കുറയും .[6] 5മീറ്ററോളം ഉയരത്തിൽ ചാടാനും 10 മീറ്ററോളം നീളത്തിൽ ചാടാനും കടുവകൾക്കു കഴിവുണ്ട്‌. സ്വന്തം ഭാരത്തിന്റെ ഇരട്ടിയുള്ള ഇരകളെ കീഴടക്കാനും കടത്തികൊണ്ടുപോകുവാനും കടുവകൾക്കു വളരെ നിസ്സാരമായി സാധിക്കും. ശരീരത്തിന്റെ മൂന്നിലൊന്നു ഭാരമുള്ള ഇരകളേയും കൊണ്ട്‌ രണ്ടുമീറ്ററിലധികം ഉയരത്തിൽ ചാടാനും കടുവയ്ക്കു കഴിവുണ്ട്‌.\n",
    "\n",
    "പ്രജനനം\n",
    "ഒറ്റയ്ക്ക് കഴിയുന്ന ഇവ പ്രജനന കാലത്ത് മാത്രമെ ഇണയോടൊപ്പം ജീവിക്കാറുള്ളു. മൂന്നോ നാലോ വർഷത്തിൽ ഒരിക്കൽ 3-4 കുഞ്ഞുങ്ങളെ പ്രസവിക്കുന്നു. 105-110 ദിവസമാണ് ഗർഭകാലം. പ്രസവിച്ച് കുറച്ച് ദിവസങ്ങൾക്ക് ശേഷമെ കുഞ്ഞുങ്ങളുടെ കണ്ണ് തുറക്കുകയുള്ളു. പ്രായപൂർത്തിയാവുന്നത് മൂന്നു വർഷംകൊണ്ടാണ്. 12 വയസ്സാണ് ഇവയുടെ ആയുർ ദൈർഘ്യം.[7]\n",
    "\n",
    "അധീന സ്വഭാവം\n",
    "ജീവികളുടെ ആഹാരശൃംഖലയിലെ ഏറ്റവും ഉയർന്ന അംഗമാണ്‌ കടുവ. കാട്‌ അടക്കിവാഴും വിധം വാസസ്ഥലങ്ങളിൽ അധീനപ്രദേശപരിധി (Territory) നിലനിർത്തി റോന്തു ചുറ്റുന്ന സ്വഭാവം കടുവക്കുണ്ട്‌. ആൺകടുവകളുടെ അധീനപ്രദേശം 70 മുതൽ 100 ചതുരശ്രകിലോമീറ്റർ വരെ വരും. പെൺകടുവകൾ 25 ചതുരശ്രകിലോമീറ്ററാണ്‌ അടക്കി വാഴുക. ഒരു ആൺകടുവയുടെ പരിധിയിൽ പല പെൺകടുവകൾ കാണുമെങ്കിലും, മറ്റൊരു ആൺകടുവയെ സ്വന്തം പരിധിയിൽ കാണുന്നത്‌ അവ തമ്മിലുള്ള പോരാട്ടത്തിലും മിക്കവാറും ഒരു കടുവയുടെ അന്ത്യത്തിലുമായിരിക്കും അവസാനിക്കുക. ഒരു കടുവയ്ക്കു തന്നെ ഇത്ര വലിയ ഒരു പരിധി ആവശ്യമുള്ളതിനാൽ വനനശീകരണം ഈ മൃഗങ്ങളെ വളരെ ഗുരുതരമായി ബാധിക്കുന്നു.\n",
    "\n",
    "ആവാസവ്യവസ്ഥകൾ\n",
    "\n",
    "കടുവ:ആവാസവ്യവസ്ഥകൾ\n",
    "ഒട്ടുമിക്കയിനം വനങ്ങളിലും കടുവകളെ കണ്ടുവരുന്നു. എങ്കിലും ജലസാമീപ്യമുള്ള പ്രദേശങ്ങളാണ്‌ കടുവകൾക്കു കൂടുതൽ ഇഷ്ടം. ഇന്ത്യൻ ഉപഭൂഖണ്ഡത്തിൽ കടുവകൾ കണ്ടുവരുന്ന പ്രദേശങ്ങളെ പ്രധാനമായും നാലായി തിരിക്കാം.\n",
    "\n",
    "വടക്കുകിഴക്കൻ കണ്ടൽ കാടുകൾ, ചതുപ്പു പ്രദേശങ്ങൾ\n",
    "ഹിമാലയ വനങ്ങൾ\n",
    "ഇന്ത്യൻ ഉപഭൂഖണ്ഡത്തിലെ മലനിരകളോടു ചേർന്നുള്ള വനങ്ങൾ\n",
    "പശ്ചിമഘട്ട (സഹ്യപർവതം) മലനിരകൾ.\n",
    "ചതുപ്പുകളും കണ്ടൽകാടുകളും നിറഞ്ഞ സുന്ദർബൻ പ്രദേശത്താണ്‌ ഇന്ത്യൻ കടുവകൾ ഏറ്റവും കൂടുതൽ വസിക്കുന്നത്‌. കേരളത്തിൽ സുൽത്താൻ ബത്തേരി ആസ്ഥാനമായ വയനാടു വന്യജീവി സങ്കേതത്തിൽ , സൈലന്റ്‌വാലി ദേശീയോദ്യാനം ,പെരിയാർ കടുവാസങ്കേതം എന്നിവിടങ്ങളിൽ കടുവകൾ ഉള്ളതായി കണ്ടെത്തിയിട്ടുണ്ട്[8]. തോൽപ്പെട്ടി, കുറിച്യാട്, മുത്തങ്ങ, സുൽത്താൻ ബത്തേരി എന്നീ റേഞ്ചുകളിലായി 10 കടുവകളെയാണു കണ്ടത്. മഞ്ഞുമലകളോടു ചേർന്നാണ്‌ വടക്കൻ റഷ്യയിലെ സൈബീരിയൻ കടുവകളുടെ വാസം.\n",
    "\n",
    "ഉപവംശങ്ങൾ\n",
    "ഒമ്പതോളം ഉപ കടുവാ വംശങ്ങൾ ഉണ്ടെന്നു കരുതുന്നു.\n",
    "\n",
    "ബംഗാൾ കടുവ\n",
    "പ്രധാന ലേഖനം: ബംഗാൾ കടുവ\n",
    "\n",
    "ബംഗാൾ കടുവ\n",
    "ഇന്ത്യ, ബംഗ്ലാദേശ്‌, നേപാൾ, ഭൂട്ടാൻ മുതലായ രാജ്യങ്ങളിലാണ്‌ ബംഗാൾ കടുവയെ (Panthera tigris tigris) കണ്ടുവരുന്നത്. ഏറ്റവും കൂടുതൽ കടുവകൾ ഉള്ളത് ഈ വർഗ്ഗത്തിലാണ്. ലോകത്തിലെ ആകെ കടുവകളുടെ 80% ബംഗാൾ കടുവയാണെന്ന് കണക്കാക്കപ്പെടുന്നു. ഇന്ത്യയിൽ മാത്രം ഇവ ആയിരത്തിഅഞ്ഞൂറോളമുണ്ടാകുമെന്നാണ്‌ കണക്ക്[9]. ബംഗാൾ കടുവകളിൽ ഭൂരിഭാഗവും ഇന്ത്യയിലും ബംഗ്ലാദേശിലുമാണ് ഉള്ളത്.\n",
    "\n",
    "\n",
    "ബംഗാൾ വെള്ളക്കടുവ\n",
    "ഇൻഡോചൈനീസ്‌ കടുവ\n",
    "പ്രധാന ലേഖനം: ഇൻഡോചൈനീസ്‌ കടുവ\n",
    "\n",
    "ഇൻഡോചൈനീസ്‌ കടുവ\n",
    "ചൈന, കംബോഡിയ, മ്യാന്മാർ, വിയറ്റ്‌നാം, തായ്‌ലൻഡ്‌ മുതലായ രാജ്യങ്ങളിലാണ്‌ ചൈനീസ്‌ കടുവകളെ (Panthera tigris corbetti) കണ്ടുവരുന്നത്‌. 1600 എണ്ണം കാണുമെന്നാണ്‌ കണക്ക്‌.'''"
   ]
  },
  {
   "cell_type": "code",
   "execution_count": 4,
   "id": "55fa07f9",
   "metadata": {},
   "outputs": [],
   "source": [
    "#import the class\n",
    "from sumy.summarizers.text_rank import TextRankSummarizer"
   ]
  },
  {
   "cell_type": "code",
   "execution_count": 5,
   "id": "fbc6b705",
   "metadata": {},
   "outputs": [],
   "source": [
    "#import parser and tokenizers\n",
    "from sumy.parsers.plaintext import PlaintextParser\n",
    "from sumy.nlp.tokenizers import Tokenizer"
   ]
  },
  {
   "cell_type": "code",
   "execution_count": 6,
   "id": "fa690e07",
   "metadata": {},
   "outputs": [
    {
     "name": "stderr",
     "output_type": "stream",
     "text": [
      "[nltk_data] Downloading package punkt to\n",
      "[nltk_data]     C:\\Users\\Dell\\AppData\\Roaming\\nltk_data...\n",
      "[nltk_data]   Package punkt is already up-to-date!\n"
     ]
    },
    {
     "data": {
      "text/plain": [
       "True"
      ]
     },
     "execution_count": 6,
     "metadata": {},
     "output_type": "execute_result"
    }
   ],
   "source": [
    "import nltk\n",
    "nltk.download('punkt')"
   ]
  },
  {
   "cell_type": "code",
   "execution_count": 7,
   "id": "a3ef17e8",
   "metadata": {},
   "outputs": [],
   "source": [
    "#initialize the parser\n",
    "my_parser = PlaintextParser.from_string(itext,Tokenizer('english'))"
   ]
  },
  {
   "cell_type": "code",
   "execution_count": 8,
   "id": "2b0e22d1",
   "metadata": {},
   "outputs": [],
   "source": [
    "#create the object of summarizer\n",
    "tex_rank_summarizer = TextRankSummarizer()"
   ]
  },
  {
   "cell_type": "code",
   "execution_count": 9,
   "id": "52b12529",
   "metadata": {},
   "outputs": [],
   "source": [
    "#extract top 3 sentences\n",
    "summary = tex_rank_summarizer(my_parser.document, sentences_count=3)"
   ]
  },
  {
   "cell_type": "code",
   "execution_count": 10,
   "id": "2f624a88",
   "metadata": {},
   "outputs": [
    {
     "data": {
      "text/plain": [
       "(<Sentence: ഒരു കടുവയ്ക്കു തന്നെ ഇത്ര വലിയ ഒരു പരിധി ആവശ്യമുള്ളതിനാൽ വനനശീകരണം ഈ മൃഗങ്ങളെ വളരെ ഗുരുതരമായി ബാധിക്കുന്നു.>,\n",
       " <Sentence: ബംഗാൾ കടുവ ഇന്ത്യ, ബംഗ്ലാദേശ്‌, നേപാൾ, ഭൂട്ടാൻ മുതലായ രാജ്യങ്ങളിലാണ്‌ ബംഗാൾ കടുവയെ (Panthera tigris tigris) കണ്ടുവരുന്നത്.>,\n",
       " <Sentence: ഏറ്റവും കൂടുതൽ കടുവകൾ ഉള്ളത് ഈ വർഗ്ഗത്തിലാണ്.>)"
      ]
     },
     "execution_count": 10,
     "metadata": {},
     "output_type": "execute_result"
    }
   ],
   "source": [
    "summary"
   ]
  }
 ],
 "metadata": {
  "kernelspec": {
   "display_name": "Python 3 (ipykernel)",
   "language": "python",
   "name": "python3"
  },
  "language_info": {
   "codemirror_mode": {
    "name": "ipython",
    "version": 3
   },
   "file_extension": ".py",
   "mimetype": "text/x-python",
   "name": "python",
   "nbconvert_exporter": "python",
   "pygments_lexer": "ipython3",
   "version": "3.9.12"
  }
 },
 "nbformat": 4,
 "nbformat_minor": 5
}
