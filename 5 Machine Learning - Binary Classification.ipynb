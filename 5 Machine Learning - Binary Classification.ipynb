{
 "cells": [
  {
   "cell_type": "markdown",
   "id": "7ac1b782",
   "metadata": {},
   "source": [
    "#### Dataset"
   ]
  },
  {
   "cell_type": "code",
   "execution_count": 2,
   "id": "283d2f85",
   "metadata": {},
   "outputs": [],
   "source": [
    "# Name: news_data.csv, sample_news.txt"
   ]
  },
  {
   "cell_type": "markdown",
   "id": "7fa40abe",
   "metadata": {},
   "source": [
    "#### Import the libraries"
   ]
  },
  {
   "cell_type": "code",
   "execution_count": 5,
   "id": "556bfb78",
   "metadata": {},
   "outputs": [],
   "source": [
    "import pandas as pd\n",
    "import seaborn as sns\n",
    "import matplotlib.pyplot as plt"
   ]
  },
  {
   "cell_type": "markdown",
   "id": "c7f5e287",
   "metadata": {},
   "source": [
    "#### Read the dataset"
   ]
  },
  {
   "cell_type": "code",
   "execution_count": 8,
   "id": "6739b69b",
   "metadata": {},
   "outputs": [],
   "source": [
    "df = pd.read_csv('news_data.csv')"
   ]
  },
  {
   "cell_type": "code",
   "execution_count": 9,
   "id": "9b9df997",
   "metadata": {},
   "outputs": [
    {
     "data": {
      "text/plain": [
       "(9900, 2)"
      ]
     },
     "execution_count": 9,
     "metadata": {},
     "output_type": "execute_result"
    }
   ],
   "source": [
    "df.shape"
   ]
  },
  {
   "cell_type": "code",
   "execution_count": 10,
   "id": "b15fc999",
   "metadata": {},
   "outputs": [
    {
     "data": {
      "text/plain": [
       "Index(['Text', 'label'], dtype='object')"
      ]
     },
     "execution_count": 10,
     "metadata": {},
     "output_type": "execute_result"
    }
   ],
   "source": [
    "df.columns"
   ]
  },
  {
   "cell_type": "markdown",
   "id": "16d0ea62",
   "metadata": {},
   "source": [
    "#### Seperate the input and output data"
   ]
  },
  {
   "cell_type": "code",
   "execution_count": 12,
   "id": "e985f660",
   "metadata": {},
   "outputs": [],
   "source": [
    "features = df['Text']   # input data\n",
    "label = df['label']     # output data"
   ]
  },
  {
   "cell_type": "code",
   "execution_count": 13,
   "id": "64042d90",
   "metadata": {},
   "outputs": [
    {
     "data": {
      "text/plain": [
       "0     Top Trump Surrogate BRUTALLY Stabs Him In The...\n",
       "1    U.S. conservative leader optimistic of common ...\n",
       "2    Trump proposes U.S. tax overhaul, stirs concer...\n",
       "3     Court Forces Ohio To Allow Millions Of Illega...\n",
       "4    Democrats say Trump agrees to work on immigrat...\n",
       "Name: Text, dtype: object"
      ]
     },
     "execution_count": 13,
     "metadata": {},
     "output_type": "execute_result"
    }
   ],
   "source": [
    "features.head()"
   ]
  },
  {
   "cell_type": "code",
   "execution_count": 14,
   "id": "72712865",
   "metadata": {},
   "outputs": [
    {
     "data": {
      "text/plain": [
       "0       Fake\n",
       "1       Real\n",
       "2       Real\n",
       "3       Fake\n",
       "4       Real\n",
       "        ... \n",
       "9895    Fake\n",
       "9896    Real\n",
       "9897    Real\n",
       "9898    Fake\n",
       "9899    Fake\n",
       "Name: label, Length: 9900, dtype: object"
      ]
     },
     "execution_count": 14,
     "metadata": {},
     "output_type": "execute_result"
    }
   ],
   "source": [
    "label"
   ]
  },
  {
   "cell_type": "code",
   "execution_count": 15,
   "id": "ff9a9147",
   "metadata": {},
   "outputs": [
    {
     "data": {
      "text/plain": [
       "{'Fake', 'Real'}"
      ]
     },
     "execution_count": 15,
     "metadata": {},
     "output_type": "execute_result"
    }
   ],
   "source": [
    "set(label)"
   ]
  },
  {
   "cell_type": "code",
   "execution_count": 16,
   "id": "ca8d1faa",
   "metadata": {},
   "outputs": [
    {
     "data": {
      "text/plain": [
       "<AxesSubplot:xlabel='label', ylabel='count'>"
      ]
     },
     "execution_count": 16,
     "metadata": {},
     "output_type": "execute_result"
    },
    {
     "data": {
      "image/png": "[encoded data removed]",
      "text/plain": [
       "<Figure size 432x288 with 1 Axes>"
      ]
     },
     "metadata": {
      "needs_background": "light"
     },
     "output_type": "display_data"
    }
   ],
   "source": [
    "sns.countplot(x = label)"
   ]
  },
  {
   "cell_type": "code",
   "execution_count": 17,
   "id": "3c66ce7d",
   "metadata": {},
   "outputs": [
    {
     "data": {
      "text/plain": [
       "Fake    5000\n",
       "Real    4900\n",
       "Name: label, dtype: int64"
      ]
     },
     "execution_count": 17,
     "metadata": {},
     "output_type": "execute_result"
    }
   ],
   "source": [
    "label.value_counts()"
   ]
  },
  {
   "cell_type": "code",
   "execution_count": 22,
   "id": "73baa154",
   "metadata": {},
   "outputs": [
    {
     "data": {
      "image/png": "[encoded data removed]",
      "text/plain": [
       "<Figure size 432x288 with 1 Axes>"
      ]
     },
     "metadata": {},
     "output_type": "display_data"
    }
   ],
   "source": [
    "# plt.pie(label.value_counts());\n",
    "# plt.pie(label.value_counts(), labels=label.value_counts().index);\n",
    "plt.pie(label.value_counts(), labels=label.value_counts().index, autopct='%2.2f%%');"
   ]
  },
  {
   "cell_type": "markdown",
   "id": "fbe45091",
   "metadata": {},
   "source": [
    "#### Data Preparation"
   ]
  },
  {
   "cell_type": "markdown",
   "id": "2a8a0eb2",
   "metadata": {},
   "source": [
    "##### Data Cleaning"
   ]
  },
  {
   "cell_type": "code",
   "execution_count": 23,
   "id": "6f421b4a",
   "metadata": {},
   "outputs": [],
   "source": [
    "from nltk.tokenize import word_tokenize\n",
    "from nltk.corpus import stopwords\n",
    "from nltk.stem import PorterStemmer"
   ]
  },
  {
   "cell_type": "code",
   "execution_count": 24,
   "id": "c465a83b",
   "metadata": {},
   "outputs": [],
   "source": [
    "sent = 'Hello friends! How are you? I like Python Programming'"
   ]
  },
  {
   "cell_type": "code",
   "execution_count": 25,
   "id": "90b1c32e",
   "metadata": {},
   "outputs": [],
   "source": [
    "# Tokenize\n",
    "tokens1 = word_tokenize(sent)"
   ]
  },
  {
   "cell_type": "code",
   "execution_count": 26,
   "id": "0c4bdd29",
   "metadata": {},
   "outputs": [
    {
     "data": {
      "text/plain": [
       "['Hello',\n",
       " 'friends',\n",
       " '!',\n",
       " 'How',\n",
       " 'are',\n",
       " 'you',\n",
       " '?',\n",
       " 'I',\n",
       " 'like',\n",
       " 'Python',\n",
       " 'Programming']"
      ]
     },
     "execution_count": 26,
     "metadata": {},
     "output_type": "execute_result"
    }
   ],
   "source": [
    "tokens1"
   ]
  },
  {
   "cell_type": "code",
   "execution_count": 28,
   "id": "f54ccf1d",
   "metadata": {},
   "outputs": [],
   "source": [
    "# remove punctuations\n",
    "tokens2 = [x.lower() for x in tokens1 if x.isalpha()]"
   ]
  },
  {
   "cell_type": "code",
   "execution_count": 29,
   "id": "ea77525b",
   "metadata": {},
   "outputs": [
    {
     "data": {
      "text/plain": [
       "['hello', 'friends', 'how', 'are', 'you', 'i', 'like', 'python', 'programming']"
      ]
     },
     "execution_count": 29,
     "metadata": {},
     "output_type": "execute_result"
    }
   ],
   "source": [
    "tokens2"
   ]
  },
  {
   "cell_type": "code",
   "execution_count": 30,
   "id": "47ba8098",
   "metadata": {},
   "outputs": [],
   "source": [
    "# remove stopwords\n",
    "swords = stopwords.words('english')"
   ]
  },
  {
   "cell_type": "code",
   "execution_count": 31,
   "id": "51a0b862",
   "metadata": {},
   "outputs": [
    {
     "data": {
      "text/plain": [
       "['i',\n",
       " 'me',\n",
       " 'my',\n",
       " 'myself',\n",
       " 'we',\n",
       " 'our',\n",
       " 'ours',\n",
       " 'ourselves',\n",
       " 'you',\n",
       " \"you're\",\n",
       " \"you've\",\n",
       " \"you'll\",\n",
       " \"you'd\",\n",
       " 'your',\n",
       " 'yours',\n",
       " 'yourself',\n",
       " 'yourselves',\n",
       " 'he',\n",
       " 'him',\n",
       " 'his',\n",
       " 'himself',\n",
       " 'she',\n",
       " \"she's\",\n",
       " 'her',\n",
       " 'hers',\n",
       " 'herself',\n",
       " 'it',\n",
       " \"it's\",\n",
       " 'its',\n",
       " 'itself',\n",
       " 'they',\n",
       " 'them',\n",
       " 'their',\n",
       " 'theirs',\n",
       " 'themselves',\n",
       " 'what',\n",
       " 'which',\n",
       " 'who',\n",
       " 'whom',\n",
       " 'this',\n",
       " 'that',\n",
       " \"that'll\",\n",
       " 'these',\n",
       " 'those',\n",
       " 'am',\n",
       " 'is',\n",
       " 'are',\n",
       " 'was',\n",
       " 'were',\n",
       " 'be',\n",
       " 'been',\n",
       " 'being',\n",
       " 'have',\n",
       " 'has',\n",
       " 'had',\n",
       " 'having',\n",
       " 'do',\n",
       " 'does',\n",
       " 'did',\n",
       " 'doing',\n",
       " 'a',\n",
       " 'an',\n",
       " 'the',\n",
       " 'and',\n",
       " 'but',\n",
       " 'if',\n",
       " 'or',\n",
       " 'because',\n",
       " 'as',\n",
       " 'until',\n",
       " 'while',\n",
       " 'of',\n",
       " 'at',\n",
       " 'by',\n",
       " 'for',\n",
       " 'with',\n",
       " 'about',\n",
       " 'against',\n",
       " 'between',\n",
       " 'into',\n",
       " 'through',\n",
       " 'during',\n",
       " 'before',\n",
       " 'after',\n",
       " 'above',\n",
       " 'below',\n",
       " 'to',\n",
       " 'from',\n",
       " 'up',\n",
       " 'down',\n",
       " 'in',\n",
       " 'out',\n",
       " 'on',\n",
       " 'off',\n",
       " 'over',\n",
       " 'under',\n",
       " 'again',\n",
       " 'further',\n",
       " 'then',\n",
       " 'once',\n",
       " 'here',\n",
       " 'there',\n",
       " 'when',\n",
       " 'where',\n",
       " 'why',\n",
       " 'how',\n",
       " 'all',\n",
       " 'any',\n",
       " 'both',\n",
       " 'each',\n",
       " 'few',\n",
       " 'more',\n",
       " 'most',\n",
       " 'other',\n",
       " 'some',\n",
       " 'such',\n",
       " 'no',\n",
       " 'nor',\n",
       " 'not',\n",
       " 'only',\n",
       " 'own',\n",
       " 'same',\n",
       " 'so',\n",
       " 'than',\n",
       " 'too',\n",
       " 'very',\n",
       " 's',\n",
       " 't',\n",
       " 'can',\n",
       " 'will',\n",
       " 'just',\n",
       " 'don',\n",
       " \"don't\",\n",
       " 'should',\n",
       " \"should've\",\n",
       " 'now',\n",
       " 'd',\n",
       " 'll',\n",
       " 'm',\n",
       " 'o',\n",
       " 're',\n",
       " 've',\n",
       " 'y',\n",
       " 'ain',\n",
       " 'aren',\n",
       " \"aren't\",\n",
       " 'couldn',\n",
       " \"couldn't\",\n",
       " 'didn',\n",
       " \"didn't\",\n",
       " 'doesn',\n",
       " \"doesn't\",\n",
       " 'hadn',\n",
       " \"hadn't\",\n",
       " 'hasn',\n",
       " \"hasn't\",\n",
       " 'haven',\n",
       " \"haven't\",\n",
       " 'isn',\n",
       " \"isn't\",\n",
       " 'ma',\n",
       " 'mightn',\n",
       " \"mightn't\",\n",
       " 'mustn',\n",
       " \"mustn't\",\n",
       " 'needn',\n",
       " \"needn't\",\n",
       " 'shan',\n",
       " \"shan't\",\n",
       " 'shouldn',\n",
       " \"shouldn't\",\n",
       " 'wasn',\n",
       " \"wasn't\",\n",
       " 'weren',\n",
       " \"weren't\",\n",
       " 'won',\n",
       " \"won't\",\n",
       " 'wouldn',\n",
       " \"wouldn't\"]"
      ]
     },
     "execution_count": 31,
     "metadata": {},
     "output_type": "execute_result"
    }
   ],
   "source": [
    "swords"
   ]
  },
  {
   "cell_type": "code",
   "execution_count": 32,
   "id": "ace453cd",
   "metadata": {},
   "outputs": [],
   "source": [
    "tokens3 = [x for x in tokens2 if x not in swords]"
   ]
  },
  {
   "cell_type": "code",
   "execution_count": 33,
   "id": "eb2091ed",
   "metadata": {},
   "outputs": [
    {
     "data": {
      "text/plain": [
       "['hello', 'friends', 'like', 'python', 'programming']"
      ]
     },
     "execution_count": 33,
     "metadata": {},
     "output_type": "execute_result"
    }
   ],
   "source": [
    "tokens3"
   ]
  },
  {
   "cell_type": "code",
   "execution_count": 34,
   "id": "2d4b1443",
   "metadata": {},
   "outputs": [],
   "source": [
    "# remove suffixes\n",
    "ps = PorterStemmer()"
   ]
  },
  {
   "cell_type": "code",
   "execution_count": 35,
   "id": "71482a65",
   "metadata": {},
   "outputs": [],
   "source": [
    "tokens4 = [ps.stem(x) for x in tokens3]"
   ]
  },
  {
   "cell_type": "code",
   "execution_count": 36,
   "id": "3ad665ff",
   "metadata": {},
   "outputs": [
    {
     "data": {
      "text/plain": [
       "['hello', 'friend', 'like', 'python', 'program']"
      ]
     },
     "execution_count": 36,
     "metadata": {},
     "output_type": "execute_result"
    }
   ],
   "source": [
    "tokens4"
   ]
  },
  {
   "cell_type": "code",
   "execution_count": 37,
   "id": "4ce8a308",
   "metadata": {},
   "outputs": [],
   "source": [
    "# define a function for text cleaning\n",
    "def clean_text(sent):\n",
    "    tokens1 = word_tokenize(sent)\n",
    "    tokens2 = [x.lower() for x in tokens1 if x.isalpha()]\n",
    "    tokens3 = [x for x in tokens2 if x not in swords]\n",
    "    tokens4 = [ps.stem(x) for x in tokens3]\n",
    "    return tokens4"
   ]
  },
  {
   "cell_type": "code",
   "execution_count": 38,
   "id": "4ee0ff8a",
   "metadata": {},
   "outputs": [
    {
     "data": {
      "text/plain": [
       "['hello', 'friend', 'like', 'python', 'program']"
      ]
     },
     "execution_count": 38,
     "metadata": {},
     "output_type": "execute_result"
    }
   ],
   "source": [
    "clean_text(sent)"
   ]
  },
  {
   "cell_type": "code",
   "execution_count": 39,
   "id": "76a88c7a",
   "metadata": {},
   "outputs": [],
   "source": [
    "new_sent = 'It was the expected result. They told the same on fields'"
   ]
  },
  {
   "cell_type": "code",
   "execution_count": 40,
   "id": "2481878e",
   "metadata": {},
   "outputs": [
    {
     "data": {
      "text/plain": [
       "['expect', 'result', 'told', 'field']"
      ]
     },
     "execution_count": 40,
     "metadata": {},
     "output_type": "execute_result"
    }
   ],
   "source": [
    "clean_text(new_sent)"
   ]
  },
  {
   "cell_type": "code",
   "execution_count": 41,
   "id": "ec0dd43e",
   "metadata": {},
   "outputs": [
    {
     "data": {
      "text/plain": [
       "['rank',\n",
       " 'dem',\n",
       " 'hous',\n",
       " 'russia',\n",
       " 'probe',\n",
       " 'explos',\n",
       " 'news',\n",
       " 'trump',\n",
       " 'run',\n",
       " 'scare',\n",
       " 'everybodi',\n",
       " 'still',\n",
       " 'believ',\n",
       " 'democraci',\n",
       " 'true',\n",
       " 'freedom',\n",
       " 'reel',\n",
       " 'fbi',\n",
       " 'director',\n",
       " 'jame',\n",
       " 'comey',\n",
       " 'fire',\n",
       " 'media',\n",
       " 'member',\n",
       " 'congress',\n",
       " 'frantic',\n",
       " 'work',\n",
       " 'get',\n",
       " 'deet',\n",
       " 'happen',\n",
       " 'adam',\n",
       " 'schiff',\n",
       " 'rank',\n",
       " 'member',\n",
       " 'hous',\n",
       " 'intellig',\n",
       " 'committe',\n",
       " 'conduct',\n",
       " 'investig',\n",
       " 'russia',\n",
       " 'drop',\n",
       " 'truth',\n",
       " 'bomb',\n",
       " 'comey',\n",
       " 'trump',\n",
       " 'would',\n",
       " 'wise',\n",
       " 'go',\n",
       " 'find',\n",
       " 'cave',\n",
       " 'hide',\n",
       " 'ask',\n",
       " 'cnn',\n",
       " 'whether',\n",
       " 'believ',\n",
       " 'think',\n",
       " 'someth',\n",
       " 'wors',\n",
       " 'brazen',\n",
       " 'interfer',\n",
       " 'crimin',\n",
       " 'investig',\n",
       " 'presid',\n",
       " 'call',\n",
       " 'whole',\n",
       " 'investig',\n",
       " 'fake',\n",
       " 'fbi',\n",
       " 'director',\n",
       " 'serious',\n",
       " 'look',\n",
       " 'whether',\n",
       " 'trump',\n",
       " 'associ',\n",
       " 'collud',\n",
       " 'russian',\n",
       " 'end',\n",
       " 'statement',\n",
       " 'cnn',\n",
       " 'particularli',\n",
       " 'jar',\n",
       " 'anybodi',\n",
       " 'familiar',\n",
       " 'histori',\n",
       " 'watch',\n",
       " 'adam',\n",
       " 'schiff',\n",
       " 'fire',\n",
       " 'fbi',\n",
       " 'director',\n",
       " 'jame',\n",
       " 'comey',\n",
       " 'brazen',\n",
       " 'interfer',\n",
       " 'crimin',\n",
       " 'investig',\n",
       " 'http',\n",
       " 'cnn',\n",
       " 'cnn',\n",
       " 'may',\n",
       " 'year',\n",
       " 'white',\n",
       " 'hous',\n",
       " 'tri',\n",
       " 'get',\n",
       " 'fbi',\n",
       " 'publicli',\n",
       " 'disput',\n",
       " 'stori',\n",
       " 'appear',\n",
       " 'new',\n",
       " 'york',\n",
       " 'time',\n",
       " 'contact',\n",
       " 'trump',\n",
       " 'associ',\n",
       " 'russian',\n",
       " 'actor',\n",
       " 'tri',\n",
       " 'bend',\n",
       " 'fbi',\n",
       " 'long',\n",
       " 'time',\n",
       " 'comey',\n",
       " 'lie',\n",
       " 'oath',\n",
       " 'end',\n",
       " 'russia',\n",
       " 'probe',\n",
       " 'trump',\n",
       " 'decid',\n",
       " 'fire',\n",
       " 'fact',\n",
       " 'jeff',\n",
       " 'session',\n",
       " 'actual',\n",
       " 'told',\n",
       " 'find',\n",
       " 'reason',\n",
       " 'fire',\n",
       " 'comey',\n",
       " 'work',\n",
       " 'least',\n",
       " 'week',\n",
       " 'trump',\n",
       " 'like',\n",
       " 'want',\n",
       " 'someon',\n",
       " 'posit',\n",
       " 'end',\n",
       " 'investig',\n",
       " 'discov',\n",
       " 'someth',\n",
       " 'realli',\n",
       " 'damn',\n",
       " 'want',\n",
       " 'trump',\n",
       " 'innoc',\n",
       " 'white',\n",
       " 'hous',\n",
       " 'look',\n",
       " 'reason',\n",
       " 'fire',\n",
       " 'comey',\n",
       " 'comey',\n",
       " 'may',\n",
       " 'even',\n",
       " 'fire',\n",
       " 'trump',\n",
       " 'probabl',\n",
       " 'would',\n",
       " 'done',\n",
       " 'took',\n",
       " 'offic',\n",
       " 'guis',\n",
       " 'get',\n",
       " 'fresh',\n",
       " 'start',\n",
       " 'schiff',\n",
       " 'said',\n",
       " 'cnn',\n",
       " 'behavior',\n",
       " 'innoc',\n",
       " 'imag',\n",
       " 'via',\n",
       " 'mark',\n",
       " 'imag']"
      ]
     },
     "execution_count": 41,
     "metadata": {},
     "output_type": "execute_result"
    }
   ],
   "source": [
    "clean_text(features[123])"
   ]
  },
  {
   "cell_type": "markdown",
   "id": "c880cdb5",
   "metadata": {},
   "source": [
    "#### TF*IDF Vectorization"
   ]
  },
  {
   "cell_type": "code",
   "execution_count": 43,
   "id": "961fa6a3",
   "metadata": {},
   "outputs": [],
   "source": [
    "# import the calss\n",
    "from sklearn.feature_extraction.text import TfidfVectorizer"
   ]
  },
  {
   "cell_type": "code",
   "execution_count": 44,
   "id": "e9f9656f",
   "metadata": {},
   "outputs": [],
   "source": [
    "# create an object\n",
    "tfidf = TfidfVectorizer(analyzer=clean_text)"
   ]
  },
  {
   "cell_type": "code",
   "execution_count": 45,
   "id": "7ce31c1f",
   "metadata": {},
   "outputs": [],
   "source": [
    "# perform the operation\n",
    "features_new = tfidf.fit_transform(features)"
   ]
  },
  {
   "cell_type": "code",
   "execution_count": 46,
   "id": "f1eb7d90",
   "metadata": {},
   "outputs": [
    {
     "data": {
      "text/plain": [
       "(9900, 33562)"
      ]
     },
     "execution_count": 46,
     "metadata": {},
     "output_type": "execute_result"
    }
   ],
   "source": [
    "features_new.shape"
   ]
  },
  {
   "cell_type": "code",
   "execution_count": 47,
   "id": "e73a6542",
   "metadata": {},
   "outputs": [
    {
     "data": {
      "text/plain": [
       "33562"
      ]
     },
     "execution_count": 47,
     "metadata": {},
     "output_type": "execute_result"
    }
   ],
   "source": [
    "len(tfidf.get_feature_names_out())"
   ]
  },
  {
   "cell_type": "markdown",
   "id": "85f957d9",
   "metadata": {},
   "source": [
    "#### Cross validation"
   ]
  },
  {
   "cell_type": "code",
   "execution_count": 49,
   "id": "129c411d",
   "metadata": {},
   "outputs": [],
   "source": [
    "# import the function\n",
    "from sklearn.model_selection import train_test_split"
   ]
  },
  {
   "cell_type": "code",
   "execution_count": 53,
   "id": "4a0edd52",
   "metadata": {},
   "outputs": [],
   "source": [
    "# perform the cross validation\n",
    "x_train, x_test, y_train, y_test = train_test_split(features_new, label, random_state = 0)"
   ]
  },
  {
   "cell_type": "code",
   "execution_count": 54,
   "id": "eaece7db",
   "metadata": {},
   "outputs": [
    {
     "data": {
      "text/plain": [
       "(7425, 33562)"
      ]
     },
     "execution_count": 54,
     "metadata": {},
     "output_type": "execute_result"
    }
   ],
   "source": [
    "x_train.shape"
   ]
  },
  {
   "cell_type": "code",
   "execution_count": 56,
   "id": "96232cc0",
   "metadata": {},
   "outputs": [
    {
     "data": {
      "text/plain": [
       "(2475, 33562)"
      ]
     },
     "execution_count": 56,
     "metadata": {},
     "output_type": "execute_result"
    }
   ],
   "source": [
    "x_test.shape"
   ]
  },
  {
   "cell_type": "code",
   "execution_count": 57,
   "id": "ad0fe17d",
   "metadata": {},
   "outputs": [
    {
     "data": {
      "text/plain": [
       "(7425,)"
      ]
     },
     "execution_count": 57,
     "metadata": {},
     "output_type": "execute_result"
    }
   ],
   "source": [
    "y_train.shape"
   ]
  },
  {
   "cell_type": "code",
   "execution_count": 58,
   "id": "09875dd7",
   "metadata": {},
   "outputs": [
    {
     "data": {
      "text/plain": [
       "(2475,)"
      ]
     },
     "execution_count": 58,
     "metadata": {},
     "output_type": "execute_result"
    }
   ],
   "source": [
    "y_test.shape"
   ]
  },
  {
   "cell_type": "code",
   "execution_count": 60,
   "id": "fbb00ab7",
   "metadata": {},
   "outputs": [
    {
     "data": {
      "text/plain": [
       "<1x33562 sparse matrix of type '<class 'numpy.float64'>'\n",
       "\twith 72 stored elements in Compressed Sparse Row format>"
      ]
     },
     "execution_count": 60,
     "metadata": {},
     "output_type": "execute_result"
    }
   ],
   "source": [
    "x_train[16]"
   ]
  },
  {
   "cell_type": "code",
   "execution_count": 61,
   "id": "bc2551cc",
   "metadata": {},
   "outputs": [
    {
     "data": {
      "text/plain": [
       "'Fake'"
      ]
     },
     "execution_count": 61,
     "metadata": {},
     "output_type": "execute_result"
    }
   ],
   "source": [
    "y_train[16]"
   ]
  },
  {
   "cell_type": "markdown",
   "id": "11527236",
   "metadata": {},
   "source": [
    "#### Build the Decision Tree Algorithm model on the training data"
   ]
  },
  {
   "cell_type": "code",
   "execution_count": 62,
   "id": "0ba96526",
   "metadata": {},
   "outputs": [],
   "source": [
    "#import the class\n",
    "from sklearn.tree import DecisionTreeClassifier"
   ]
  },
  {
   "cell_type": "code",
   "execution_count": 63,
   "id": "d0cda7cc",
   "metadata": {},
   "outputs": [],
   "source": [
    "# create the object\n",
    "dt = DecisionTreeClassifier(random_state=0)"
   ]
  },
  {
   "cell_type": "code",
   "execution_count": 64,
   "id": "2bce68ed",
   "metadata": {},
   "outputs": [
    {
     "data": {
      "text/plain": [
       "DecisionTreeClassifier(random_state=0)"
      ]
     },
     "execution_count": 64,
     "metadata": {},
     "output_type": "execute_result"
    }
   ],
   "source": [
    "# train the algorithm\n",
    "dt.fit(x_train, y_train)"
   ]
  },
  {
   "cell_type": "code",
   "execution_count": 65,
   "id": "9b7fe020",
   "metadata": {},
   "outputs": [],
   "source": [
    "from sklearn.tree import plot_tree"
   ]
  },
  {
   "cell_type": "code",
   "execution_count": 71,
   "id": "ee4b08c4",
   "metadata": {},
   "outputs": [
    {
     "data": {
      "image/png": "[encoded data removed]",
      "text/plain": [
       "<Figure size 864x576 with 1 Axes>"
      ]
     },
     "metadata": {
      "needs_background": "light"
     },
     "output_type": "display_data"
    }
   ],
   "source": [
    "plt.figure(figsize=(12,8))\n",
    "plot_tree(dt, fontsize=7);"
   ]
  },
  {
   "cell_type": "code",
   "execution_count": 73,
   "id": "7fd9106a",
   "metadata": {},
   "outputs": [
    {
     "data": {
      "text/plain": [
       "'factbox'"
      ]
     },
     "execution_count": 73,
     "metadata": {},
     "output_type": "execute_result"
    }
   ],
   "source": [
    "tfidf.get_feature_names_out()[9696]"
   ]
  },
  {
   "cell_type": "markdown",
   "id": "0edd45d7",
   "metadata": {},
   "source": [
    "#### Performance Evaluation"
   ]
  },
  {
   "cell_type": "code",
   "execution_count": 74,
   "id": "e4d0bde3",
   "metadata": {},
   "outputs": [],
   "source": [
    "# predict the result on test data\n",
    "y_pred = dt.predict(x_test)"
   ]
  },
  {
   "cell_type": "code",
   "execution_count": 75,
   "id": "51a89d5f",
   "metadata": {},
   "outputs": [
    {
     "data": {
      "text/plain": [
       "array(['Fake', 'Fake', 'Fake', ..., 'Fake', 'Fake', 'Fake'], dtype=object)"
      ]
     },
     "execution_count": 75,
     "metadata": {},
     "output_type": "execute_result"
    }
   ],
   "source": [
    "# algorithm predicted data\n",
    "y_pred"
   ]
  },
  {
   "cell_type": "code",
   "execution_count": 76,
   "id": "bad9a16f",
   "metadata": {},
   "outputs": [
    {
     "data": {
      "text/plain": [
       "2475"
      ]
     },
     "execution_count": 76,
     "metadata": {},
     "output_type": "execute_result"
    }
   ],
   "source": [
    "len(y_pred)"
   ]
  },
  {
   "cell_type": "code",
   "execution_count": 77,
   "id": "34408f8a",
   "metadata": {},
   "outputs": [
    {
     "data": {
      "text/plain": [
       "6688    Fake\n",
       "5766    Fake\n",
       "6335    Fake\n",
       "5857    Real\n",
       "7323    Real\n",
       "        ... \n",
       "14      Real\n",
       "5489    Real\n",
       "6953    Fake\n",
       "6780    Fake\n",
       "6727    Fake\n",
       "Name: label, Length: 2475, dtype: object"
      ]
     },
     "execution_count": 77,
     "metadata": {},
     "output_type": "execute_result"
    }
   ],
   "source": [
    "y_test"
   ]
  },
  {
   "cell_type": "code",
   "execution_count": 78,
   "id": "365ed3d1",
   "metadata": {},
   "outputs": [],
   "source": [
    "# import the class\n",
    "from sklearn.metrics import ConfusionMatrixDisplay"
   ]
  },
  {
   "cell_type": "code",
   "execution_count": 79,
   "id": "37197f4c",
   "metadata": {},
   "outputs": [
    {
     "data": {
      "image/png": "[encoded data removed]",
      "text/plain": [
       "<Figure size 432x288 with 2 Axes>"
      ]
     },
     "metadata": {
      "needs_background": "light"
     },
     "output_type": "display_data"
    }
   ],
   "source": [
    "# show the matrix\n",
    "ConfusionMatrixDisplay.from_predictions(y_test, y_pred);"
   ]
  },
  {
   "cell_type": "code",
   "execution_count": 80,
   "id": "69a7039d",
   "metadata": {},
   "outputs": [
    {
     "data": {
      "text/plain": [
       "0.9971717171717172"
      ]
     },
     "execution_count": 80,
     "metadata": {},
     "output_type": "execute_result"
    }
   ],
   "source": [
    "(1269+1199) / 2475"
   ]
  },
  {
   "cell_type": "code",
   "execution_count": 81,
   "id": "3b57d6f7",
   "metadata": {},
   "outputs": [
    {
     "data": {
      "text/plain": [
       "0.9968578161822467"
      ]
     },
     "execution_count": 81,
     "metadata": {},
     "output_type": "execute_result"
    }
   ],
   "source": [
    "# Fake Class\n",
    "1269 / 1273"
   ]
  },
  {
   "cell_type": "code",
   "execution_count": 82,
   "id": "1b7fc7a4",
   "metadata": {},
   "outputs": [
    {
     "data": {
      "text/plain": [
       "0.997504159733777"
      ]
     },
     "execution_count": 82,
     "metadata": {},
     "output_type": "execute_result"
    }
   ],
   "source": [
    "# Real Class\n",
    "1199 / 1202"
   ]
  },
  {
   "cell_type": "markdown",
   "id": "5d1c5f53",
   "metadata": {},
   "source": [
    "#### Prediction on unseen new news"
   ]
  },
  {
   "cell_type": "code",
   "execution_count": 84,
   "id": "adf412a8",
   "metadata": {},
   "outputs": [],
   "source": [
    "f = open('sample_news.txt', encoding ='utf-8')"
   ]
  },
  {
   "cell_type": "code",
   "execution_count": 85,
   "id": "7f9a7338",
   "metadata": {},
   "outputs": [],
   "source": [
    "news = f.readlines()"
   ]
  },
  {
   "cell_type": "code",
   "execution_count": 86,
   "id": "727d51ed",
   "metadata": {},
   "outputs": [
    {
     "data": {
      "text/plain": [
       "['\" Donald Trump’s ‘Charity’ Foundation Is About To Be Shut The F**k Down NATIONWIDE Things really aren t looking too great for Donald Trump s charity foundation. With recent developments prohibiting the Trump Foundation from soliciting funds in New York state, it s now looking like a good majority of states may be following suit.The Trump Foundation has also been being looked at by the Attorney General for how it is getting and spending funds, especially after what happen with veterans organizations earlier this year.According to The Daily Beast: To make matters worse for the Trump Foundation, the probe may not be limited to New York: Charity experts and lawyers tell The Daily Beast that the attorneys general of other states may soon get involved in a long, drawn-out process.All major charities are required to register with 41 different states across the nation in order to individually request permission to fundraise. When Trump raised money for veterans, he may have broken the rules in dozens of states. The president of the National Committee for Responsible Philanthropy, Aaron Dorfman, stated: The Trump Foundation would be required to file similar paperwork with the attorneys generals of nearly every other state, and they could all take similar action. It is likely that other states will follow suit and they will be issued cease and desist orders denying them fundraising privileges in other states. That is the most likely next step. This is not good news for Trump who keeps trying to pivot to slamming Hillary Clinton s Clinton Foundation. You know, the one that helps fight AIDS in nations globally.Trump, of course, likes to pretend that he s holier than thou, which might explain why Trump Foundation money was used to buy pictures of, well, himself.And according to Real Clear Politics: From 2011 through 2014, Trump harnessed his eponymous foundation to send at least $286,000 to influential conservative or policy groups, a RealClearPolitics review of the foundation s tax filings found. In many cases, this flow of money corresponded to prime speaking slots or endorsements that aided Trump as he sought to recast himself as a plausible Republican candidate for president. Finding out Trump is a scam artist using a shell charity with his same name really should come as no surprise. Especially to fund his political ambitions of grandeur. However, it will be interesting to see how this story develops as the November election draws nearer.Featured Photo by Scott Olson/Getty Images\"\\n',\n",
       " '\"U.S. environmental agency chief says humans contribute to global warming WASHINGTON (Reuters) - The head of the U.S. Environmental Protection Agency, Scott Pruitt, said on Friday he believes human activity plays a role in global warming, but measuring that contribution with precision is difficult. Speaking to reporters at the White House a day after President Donald Trump said he would withdraw the United States  from the Paris climate accord, Pruitt declined to directly answer questions about whether the president still believed global warming was a hoax, as he had said during the 2016 presidential campaign Pruitt said he had indicated that global warming is occurring, and that “human activity contributes to it in some manner. Measuring with precision, from my perspective, the degree of human contribution is very challenging.” \"\\n',\n",
       " '\" Golden State Warriors Coach Just WRECKED Trump After Attack On One Of His Players On Saturday, the man we re forced to call  President  Trump responded to Golden State Warriors star Stephen Curry s refusal to accept an invitation to the White House by doing the internet equivalent of incoherently screeching  WELL FINE,  YOU RE NOT INVITED ANYWAY. Going to the White House is considered a great honor for a championship team.Stephen Curry is hesitating,therefore invitation is withdrawn!  Donald J. Trump (@realDonaldTrump) September 23, 2017Unfortunately for Trump, Warriors coach Steve Kerr has Curry s back. The idea of civil discourse with a guy who is tweeting and demeaning people and saying the things he s saying is sort of far-fetched,  Kerr said on Sunday.  Can you picture us really having a civil discourse with him? It was an actual chance to talk to the president,  he said.  After all, he works for us. He s a public servant. He may not be aware of that, but he is a public servant, right? So maybe as NBA champions, as people in a prominent position, we could go in and say,  This is what s bothering us, what can we do about this?\\'  Then he laid in to Trump for attacking black football players for exercising their First Amendment rights while calling Nazis  very fine people: How about the irony of  Free speech is fine if you re a neo-Nazi chanting hate slogans, but free speech is not allowed to kneel in protest?  No matter how many times a football player says,  I honor our military, but I m protesting police brutality and racial inequality,  it doesn t matter. Nationalists are saying,  You re disrespecting our flag.  Well, you know what else is disrespectful to our flag? Racism. And one s way worse than the other. Trump is a constant embarrassment to our country.Watch Kerr rip him apart below:Featured image via video screen capture\"\\n']"
      ]
     },
     "execution_count": 86,
     "metadata": {},
     "output_type": "execute_result"
    }
   ],
   "source": [
    "news"
   ]
  },
  {
   "cell_type": "code",
   "execution_count": 87,
   "id": "b71f85e9",
   "metadata": {},
   "outputs": [
    {
     "data": {
      "text/plain": [
       "<3x33562 sparse matrix of type '<class 'numpy.float64'>'\n",
       "\twith 325 stored elements in Compressed Sparse Row format>"
      ]
     },
     "execution_count": 87,
     "metadata": {},
     "output_type": "execute_result"
    }
   ],
   "source": [
    "tfidf.transform(news)"
   ]
  },
  {
   "cell_type": "code",
   "execution_count": 88,
   "id": "f04e6b67",
   "metadata": {},
   "outputs": [
    {
     "data": {
      "text/plain": [
       "array(['Fake', 'Real', 'Fake'], dtype=object)"
      ]
     },
     "execution_count": 88,
     "metadata": {},
     "output_type": "execute_result"
    }
   ],
   "source": [
    "dt.predict(tfidf.transform(news))"
   ]
  },
  {
   "cell_type": "code",
   "execution_count": 89,
   "id": "b86ef50b",
   "metadata": {},
   "outputs": [
    {
     "data": {
      "text/plain": [
       "3"
      ]
     },
     "execution_count": 89,
     "metadata": {},
     "output_type": "execute_result"
    }
   ],
   "source": [
    "len(news)"
   ]
  }
 ],
 "metadata": {
  "kernelspec": {
   "display_name": "Python 3 (ipykernel)",
   "language": "python",
   "name": "python3"
  },
  "language_info": {
   "codemirror_mode": {
    "name": "ipython",
    "version": 3
   },
   "file_extension": ".py",
   "mimetype": "text/x-python",
   "name": "python",
   "nbconvert_exporter": "python",
   "pygments_lexer": "ipython3",
   "version": "3.9.12"
  }
 },
 "nbformat": 4,
 "nbformat_minor": 5
}
